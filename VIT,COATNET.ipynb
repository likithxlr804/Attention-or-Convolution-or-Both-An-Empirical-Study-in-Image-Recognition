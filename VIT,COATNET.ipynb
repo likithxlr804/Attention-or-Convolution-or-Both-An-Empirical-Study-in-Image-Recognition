{
 "cells": [
  {
   "cell_type": "code",
   "execution_count": null,
   "metadata": {
    "colab": {
     "base_uri": "https://localhost:8080/",
     "height": 435
    },
    "execution": {
     "iopub.execute_input": "2025-05-12T18:32:46.499973Z",
     "iopub.status.busy": "2025-05-12T18:32:46.499435Z",
     "iopub.status.idle": "2025-05-12T18:32:46.864974Z",
     "shell.execute_reply": "2025-05-12T18:32:46.864186Z",
     "shell.execute_reply.started": "2025-05-12T18:32:46.499948Z"
    },
    "id": "oYB13uWuYWoZ",
    "outputId": "5785cb03-ff56-483e-a949-02bdec42e757",
    "trusted": true
   },
   "outputs": [],
   "source": [
    "import os\n",
    "import matplotlib.pyplot as plt\n",
    "import matplotlib.image as mpimg\n",
    "\n",
    "# Set the path to the dataset (adjust based on your system)\n",
    "dataset_path = os.path.expanduser(r'/kaggle/input/caltech256/256_ObjectCategories')\n",
    "\n",
    "# List the categories (folders inside the dataset folder)\n",
    "categories = os.listdir(dataset_path)\n",
    "\n",
    "# Example: Load and display the first image from a category\n",
    "category = categories[0]\n",
    "image_path = os.path.join(dataset_path, category, os.listdir(os.path.join(dataset_path, category))[0])\n",
    "\n",
    "img = mpimg.imread(image_path)\n",
    "plt.imshow(img)\n",
    "plt.show()\n"
   ]
  },
  {
   "cell_type": "code",
   "execution_count": 3,
   "metadata": {
    "execution": {
     "iopub.execute_input": "2025-05-12T18:32:50.429723Z",
     "iopub.status.busy": "2025-05-12T18:32:50.429194Z",
     "iopub.status.idle": "2025-05-12T18:34:55.249432Z",
     "shell.execute_reply": "2025-05-12T18:34:55.248851Z",
     "shell.execute_reply.started": "2025-05-12T18:32:50.429699Z"
    },
    "id": "5KwyvAbHpmyW",
    "trusted": true
   },
   "outputs": [],
   "source": [
    "import torch\n",
    "from torch.utils.data import DataLoader, random_split\n",
    "from torchvision import datasets, transforms\n",
    "\n",
    "transform = transforms.Compose([\n",
    "    transforms.Resize((224, 224)),\n",
    "    #transforms.ToTensor(),\n",
    "])\n",
    "\n",
    "dataset = datasets.ImageFolder(root=r'/kaggle/input/caltech256/256_ObjectCategories',transform=transform)\n",
    "\n",
    "# Calculate sizes\n",
    "train_size = int(0.8 * len(dataset))\n",
    "test_size = len(dataset) - train_size\n",
    "\n",
    "# Split the dataset\n",
    "train_dataset1, test_dataset1 = random_split(dataset, [train_size, test_size])\n",
    "test_dataloader=DataLoader(test_dataset1,batch_size=256,shuffle=True)\n",
    "# Define the DataLoader\n",
    "data_loader = DataLoader(train_dataset1, batch_size=256, shuffle=True)\n"
   ]
  },
  {
   "cell_type": "code",
   "execution_count": 4,
   "metadata": {
    "execution": {
     "iopub.execute_input": "2025-05-12T18:36:18.972757Z",
     "iopub.status.busy": "2025-05-12T18:36:18.972232Z",
     "iopub.status.idle": "2025-05-12T18:36:18.977784Z",
     "shell.execute_reply": "2025-05-12T18:36:18.976992Z",
     "shell.execute_reply.started": "2025-05-12T18:36:18.972731Z"
    },
    "id": "0PNsXJMTpytX",
    "trusted": true
   },
   "outputs": [],
   "source": [
    "from torch.utils.data import Dataset\n",
    "\n",
    "class SubsetWithTransform(Dataset):\n",
    "    def __init__(self, subset, transform=None):\n",
    "        self.subset = subset\n",
    "        self.transform = transform\n",
    "\n",
    "    def __getitem__(self, index):\n",
    "        x, y = self.subset[index]\n",
    "        if self.transform:\n",
    "            x = self.transform(x)\n",
    "        return x, y\n",
    "\n",
    "    def __len__(self):\n",
    "        return len(self.subset)\n"
   ]
  },
  {
   "cell_type": "code",
   "execution_count": 5,
   "metadata": {
    "colab": {
     "base_uri": "https://localhost:8080/"
    },
    "execution": {
     "iopub.execute_input": "2025-05-12T18:36:22.113745Z",
     "iopub.status.busy": "2025-05-12T18:36:22.113080Z",
     "iopub.status.idle": "2025-05-12T18:36:22.120188Z",
     "shell.execute_reply": "2025-05-12T18:36:22.119438Z",
     "shell.execute_reply.started": "2025-05-12T18:36:22.113719Z"
    },
    "id": "xwSlT06jp1zU",
    "outputId": "0174e69c-c650-4abb-bc51-fb1b3065926a",
    "trusted": true
   },
   "outputs": [],
   "source": [
    "from tqdm import tqdm\n",
    "import numpy as np\n",
    "\n",
    "# Define a transform (e.g., resizing, normalization)\n",
    "import torch\n",
    "from torchvision.transforms import (\n",
    "    CenterCrop,\n",
    "    Compose,\n",
    "    Normalize,\n",
    "    RandomHorizontalFlip,\n",
    "    RandomResizedCrop,\n",
    "    ToTensor,\n",
    "    Resize,\n",
    ")\n",
    "\n",
    "\n",
    "'''\n",
    "for calulating mean and std\n",
    "\n",
    "image_mean = 0.0\n",
    "image_std = 0.0\n",
    "nb_samples = 0\n",
    "\n",
    "for images, _ in tqdm(data_loader):\n",
    "    batch_samples = images.size(0)\n",
    "    images = images.view(batch_samples, images.size(1), -1)  # [B, C, H*W]\n",
    "    image_mean += images.mean(2).sum(0)\n",
    "    image_std += images.std(2).sum(0)\n",
    "    nb_samples += batch_samples\n",
    "\n",
    "image_mean /= nb_samples\n",
    "image_std /= nb_samples\n",
    "'''\n",
    "\n",
    "train_transforms = Compose([\n",
    "    #RandomResizedCrop(size=(224, 224), antialias=True),\n",
    "    #RandomHorizontalFlip(p=0.5),\n",
    "    Resize((224, 224)),\n",
    "    ToTensor(), #Adding ToTensor to the Compose\n",
    "    Normalize(mean=[0.5524, 0.5334, 0.5045], std=[0.5524, 0.5334, 0.5045]),\n",
    "])\n",
    "test_transforms=Compose([\n",
    "    Resize((224, 224)),\n",
    "    ToTensor(),\n",
    "    Normalize(mean=[0.5524, 0.5334, 0.5045], std=[0.5524, 0.5334, 0.5045])\n",
    "])\n",
    "\n",
    "# Assign separate transforms\n",
    "train_dataset = SubsetWithTransform(train_dataset1, transform=train_transforms)\n",
    "test_dataset=SubsetWithTransform(test_dataset1,transform=test_transforms)\n",
    "train_dataloader=DataLoader(train_dataset, batch_size=256, shuffle=True,num_workers=4)\n",
    "test_dataloader=DataLoader(test_dataset,batch_size=256,shuffle=True,num_workers=4)\n",
    "# Load the dataset"
   ]
  },
  {
   "cell_type": "code",
   "execution_count": 7,
   "metadata": {
    "colab": {
     "base_uri": "https://localhost:8080/"
    },
    "execution": {
     "iopub.execute_input": "2025-05-12T18:36:47.159294Z",
     "iopub.status.busy": "2025-05-12T18:36:47.158537Z",
     "iopub.status.idle": "2025-05-12T18:36:47.217446Z",
     "shell.execute_reply": "2025-05-12T18:36:47.216823Z",
     "shell.execute_reply.started": "2025-05-12T18:36:47.159266Z"
    },
    "id": "yYqybIYzqaJY",
    "outputId": "120faf7c-c78c-4a23-ac23-35eaa8acc2fe",
    "trusted": true
   },
   "outputs": [
    {
     "name": "stdout",
     "output_type": "stream",
     "text": [
      "Device: cuda\n"
     ]
    }
   ],
   "source": [
    "#!pip install timm torchvision --quiet\n",
    "import torch\n",
    "device = torch.device('cuda' if torch.cuda.is_available() else 'cpu')\n",
    "print(\"Device:\", device)\n"
   ]
  },
  {
   "cell_type": "code",
   "execution_count": 64,
   "metadata": {
    "colab": {
     "base_uri": "https://localhost:8080/",
     "height": 1000,
     "referenced_widgets": [
      "dc2664e230f34b99b796ab290fd869a0",
      "9d8cb1f82866492bbe291a5f58ed8cb3",
      "f91ae2b9dad148ab84bc968776e566bb",
      "a7ba069830814c1fb4ea16af1d5a9d5c",
      "2f7ec4d2cd234995a21e4a268cc91641",
      "7e831e73899b4d32ac7b56e5dce5c3a4",
      "3215561d249043caaddc55349532e1f6",
      "baf803db02ee46f1924afaca366dc70a",
      "9ef9c1ee0cc24363b65c2b9266a1b408",
      "34f9f0b43a394329849f3ff8425b3ecc",
      "7e1c025e52084c7893921db27bde33ab"
     ]
    },
    "collapsed": true,
    "execution": {
     "iopub.execute_input": "2025-05-12T06:28:38.998644Z",
     "iopub.status.busy": "2025-05-12T06:28:38.998133Z",
     "iopub.status.idle": "2025-05-12T06:28:39.659945Z",
     "shell.execute_reply": "2025-05-12T06:28:39.659207Z",
     "shell.execute_reply.started": "2025-05-12T06:28:38.998619Z"
    },
    "id": "JR9rh0u7td8D",
    "jupyter": {
     "outputs_hidden": true
    },
    "outputId": "205d6662-9d01-464a-8e4d-262c029660c8",
    "trusted": true
   },
   "outputs": [
    {
     "data": {
      "text/plain": [
       "VisionTransformer(\n",
       "  (patch_embed): PatchEmbed(\n",
       "    (proj): Conv2d(3, 384, kernel_size=(16, 16), stride=(16, 16))\n",
       "    (norm): Identity()\n",
       "  )\n",
       "  (pos_drop): Dropout(p=0.0, inplace=False)\n",
       "  (patch_drop): Identity()\n",
       "  (norm_pre): Identity()\n",
       "  (blocks): Sequential(\n",
       "    (0): Block(\n",
       "      (norm1): LayerNorm((384,), eps=1e-06, elementwise_affine=True)\n",
       "      (attn): Attention(\n",
       "        (qkv): Linear(in_features=384, out_features=1152, bias=True)\n",
       "        (q_norm): Identity()\n",
       "        (k_norm): Identity()\n",
       "        (attn_drop): Dropout(p=0.0, inplace=False)\n",
       "        (proj): Linear(in_features=384, out_features=384, bias=True)\n",
       "        (proj_drop): Dropout(p=0.0, inplace=False)\n",
       "      )\n",
       "      (ls1): Identity()\n",
       "      (drop_path1): Identity()\n",
       "      (norm2): LayerNorm((384,), eps=1e-06, elementwise_affine=True)\n",
       "      (mlp): Mlp(\n",
       "        (fc1): Linear(in_features=384, out_features=1536, bias=True)\n",
       "        (act): GELU(approximate='none')\n",
       "        (drop1): Dropout(p=0.0, inplace=False)\n",
       "        (norm): Identity()\n",
       "        (fc2): Linear(in_features=1536, out_features=384, bias=True)\n",
       "        (drop2): Dropout(p=0.0, inplace=False)\n",
       "      )\n",
       "      (ls2): Identity()\n",
       "      (drop_path2): Identity()\n",
       "    )\n",
       "    (1): Block(\n",
       "      (norm1): LayerNorm((384,), eps=1e-06, elementwise_affine=True)\n",
       "      (attn): Attention(\n",
       "        (qkv): Linear(in_features=384, out_features=1152, bias=True)\n",
       "        (q_norm): Identity()\n",
       "        (k_norm): Identity()\n",
       "        (attn_drop): Dropout(p=0.0, inplace=False)\n",
       "        (proj): Linear(in_features=384, out_features=384, bias=True)\n",
       "        (proj_drop): Dropout(p=0.0, inplace=False)\n",
       "      )\n",
       "      (ls1): Identity()\n",
       "      (drop_path1): Identity()\n",
       "      (norm2): LayerNorm((384,), eps=1e-06, elementwise_affine=True)\n",
       "      (mlp): Mlp(\n",
       "        (fc1): Linear(in_features=384, out_features=1536, bias=True)\n",
       "        (act): GELU(approximate='none')\n",
       "        (drop1): Dropout(p=0.0, inplace=False)\n",
       "        (norm): Identity()\n",
       "        (fc2): Linear(in_features=1536, out_features=384, bias=True)\n",
       "        (drop2): Dropout(p=0.0, inplace=False)\n",
       "      )\n",
       "      (ls2): Identity()\n",
       "      (drop_path2): Identity()\n",
       "    )\n",
       "    (2): Block(\n",
       "      (norm1): LayerNorm((384,), eps=1e-06, elementwise_affine=True)\n",
       "      (attn): Attention(\n",
       "        (qkv): Linear(in_features=384, out_features=1152, bias=True)\n",
       "        (q_norm): Identity()\n",
       "        (k_norm): Identity()\n",
       "        (attn_drop): Dropout(p=0.0, inplace=False)\n",
       "        (proj): Linear(in_features=384, out_features=384, bias=True)\n",
       "        (proj_drop): Dropout(p=0.0, inplace=False)\n",
       "      )\n",
       "      (ls1): Identity()\n",
       "      (drop_path1): Identity()\n",
       "      (norm2): LayerNorm((384,), eps=1e-06, elementwise_affine=True)\n",
       "      (mlp): Mlp(\n",
       "        (fc1): Linear(in_features=384, out_features=1536, bias=True)\n",
       "        (act): GELU(approximate='none')\n",
       "        (drop1): Dropout(p=0.0, inplace=False)\n",
       "        (norm): Identity()\n",
       "        (fc2): Linear(in_features=1536, out_features=384, bias=True)\n",
       "        (drop2): Dropout(p=0.0, inplace=False)\n",
       "      )\n",
       "      (ls2): Identity()\n",
       "      (drop_path2): Identity()\n",
       "    )\n",
       "    (3): Block(\n",
       "      (norm1): LayerNorm((384,), eps=1e-06, elementwise_affine=True)\n",
       "      (attn): Attention(\n",
       "        (qkv): Linear(in_features=384, out_features=1152, bias=True)\n",
       "        (q_norm): Identity()\n",
       "        (k_norm): Identity()\n",
       "        (attn_drop): Dropout(p=0.0, inplace=False)\n",
       "        (proj): Linear(in_features=384, out_features=384, bias=True)\n",
       "        (proj_drop): Dropout(p=0.0, inplace=False)\n",
       "      )\n",
       "      (ls1): Identity()\n",
       "      (drop_path1): Identity()\n",
       "      (norm2): LayerNorm((384,), eps=1e-06, elementwise_affine=True)\n",
       "      (mlp): Mlp(\n",
       "        (fc1): Linear(in_features=384, out_features=1536, bias=True)\n",
       "        (act): GELU(approximate='none')\n",
       "        (drop1): Dropout(p=0.0, inplace=False)\n",
       "        (norm): Identity()\n",
       "        (fc2): Linear(in_features=1536, out_features=384, bias=True)\n",
       "        (drop2): Dropout(p=0.0, inplace=False)\n",
       "      )\n",
       "      (ls2): Identity()\n",
       "      (drop_path2): Identity()\n",
       "    )\n",
       "    (4): Block(\n",
       "      (norm1): LayerNorm((384,), eps=1e-06, elementwise_affine=True)\n",
       "      (attn): Attention(\n",
       "        (qkv): Linear(in_features=384, out_features=1152, bias=True)\n",
       "        (q_norm): Identity()\n",
       "        (k_norm): Identity()\n",
       "        (attn_drop): Dropout(p=0.0, inplace=False)\n",
       "        (proj): Linear(in_features=384, out_features=384, bias=True)\n",
       "        (proj_drop): Dropout(p=0.0, inplace=False)\n",
       "      )\n",
       "      (ls1): Identity()\n",
       "      (drop_path1): Identity()\n",
       "      (norm2): LayerNorm((384,), eps=1e-06, elementwise_affine=True)\n",
       "      (mlp): Mlp(\n",
       "        (fc1): Linear(in_features=384, out_features=1536, bias=True)\n",
       "        (act): GELU(approximate='none')\n",
       "        (drop1): Dropout(p=0.0, inplace=False)\n",
       "        (norm): Identity()\n",
       "        (fc2): Linear(in_features=1536, out_features=384, bias=True)\n",
       "        (drop2): Dropout(p=0.0, inplace=False)\n",
       "      )\n",
       "      (ls2): Identity()\n",
       "      (drop_path2): Identity()\n",
       "    )\n",
       "    (5): Block(\n",
       "      (norm1): LayerNorm((384,), eps=1e-06, elementwise_affine=True)\n",
       "      (attn): Attention(\n",
       "        (qkv): Linear(in_features=384, out_features=1152, bias=True)\n",
       "        (q_norm): Identity()\n",
       "        (k_norm): Identity()\n",
       "        (attn_drop): Dropout(p=0.0, inplace=False)\n",
       "        (proj): Linear(in_features=384, out_features=384, bias=True)\n",
       "        (proj_drop): Dropout(p=0.0, inplace=False)\n",
       "      )\n",
       "      (ls1): Identity()\n",
       "      (drop_path1): Identity()\n",
       "      (norm2): LayerNorm((384,), eps=1e-06, elementwise_affine=True)\n",
       "      (mlp): Mlp(\n",
       "        (fc1): Linear(in_features=384, out_features=1536, bias=True)\n",
       "        (act): GELU(approximate='none')\n",
       "        (drop1): Dropout(p=0.0, inplace=False)\n",
       "        (norm): Identity()\n",
       "        (fc2): Linear(in_features=1536, out_features=384, bias=True)\n",
       "        (drop2): Dropout(p=0.0, inplace=False)\n",
       "      )\n",
       "      (ls2): Identity()\n",
       "      (drop_path2): Identity()\n",
       "    )\n",
       "    (6): Block(\n",
       "      (norm1): LayerNorm((384,), eps=1e-06, elementwise_affine=True)\n",
       "      (attn): Attention(\n",
       "        (qkv): Linear(in_features=384, out_features=1152, bias=True)\n",
       "        (q_norm): Identity()\n",
       "        (k_norm): Identity()\n",
       "        (attn_drop): Dropout(p=0.0, inplace=False)\n",
       "        (proj): Linear(in_features=384, out_features=384, bias=True)\n",
       "        (proj_drop): Dropout(p=0.0, inplace=False)\n",
       "      )\n",
       "      (ls1): Identity()\n",
       "      (drop_path1): Identity()\n",
       "      (norm2): LayerNorm((384,), eps=1e-06, elementwise_affine=True)\n",
       "      (mlp): Mlp(\n",
       "        (fc1): Linear(in_features=384, out_features=1536, bias=True)\n",
       "        (act): GELU(approximate='none')\n",
       "        (drop1): Dropout(p=0.0, inplace=False)\n",
       "        (norm): Identity()\n",
       "        (fc2): Linear(in_features=1536, out_features=384, bias=True)\n",
       "        (drop2): Dropout(p=0.0, inplace=False)\n",
       "      )\n",
       "      (ls2): Identity()\n",
       "      (drop_path2): Identity()\n",
       "    )\n",
       "    (7): Block(\n",
       "      (norm1): LayerNorm((384,), eps=1e-06, elementwise_affine=True)\n",
       "      (attn): Attention(\n",
       "        (qkv): Linear(in_features=384, out_features=1152, bias=True)\n",
       "        (q_norm): Identity()\n",
       "        (k_norm): Identity()\n",
       "        (attn_drop): Dropout(p=0.0, inplace=False)\n",
       "        (proj): Linear(in_features=384, out_features=384, bias=True)\n",
       "        (proj_drop): Dropout(p=0.0, inplace=False)\n",
       "      )\n",
       "      (ls1): Identity()\n",
       "      (drop_path1): Identity()\n",
       "      (norm2): LayerNorm((384,), eps=1e-06, elementwise_affine=True)\n",
       "      (mlp): Mlp(\n",
       "        (fc1): Linear(in_features=384, out_features=1536, bias=True)\n",
       "        (act): GELU(approximate='none')\n",
       "        (drop1): Dropout(p=0.0, inplace=False)\n",
       "        (norm): Identity()\n",
       "        (fc2): Linear(in_features=1536, out_features=384, bias=True)\n",
       "        (drop2): Dropout(p=0.0, inplace=False)\n",
       "      )\n",
       "      (ls2): Identity()\n",
       "      (drop_path2): Identity()\n",
       "    )\n",
       "    (8): Block(\n",
       "      (norm1): LayerNorm((384,), eps=1e-06, elementwise_affine=True)\n",
       "      (attn): Attention(\n",
       "        (qkv): Linear(in_features=384, out_features=1152, bias=True)\n",
       "        (q_norm): Identity()\n",
       "        (k_norm): Identity()\n",
       "        (attn_drop): Dropout(p=0.0, inplace=False)\n",
       "        (proj): Linear(in_features=384, out_features=384, bias=True)\n",
       "        (proj_drop): Dropout(p=0.0, inplace=False)\n",
       "      )\n",
       "      (ls1): Identity()\n",
       "      (drop_path1): Identity()\n",
       "      (norm2): LayerNorm((384,), eps=1e-06, elementwise_affine=True)\n",
       "      (mlp): Mlp(\n",
       "        (fc1): Linear(in_features=384, out_features=1536, bias=True)\n",
       "        (act): GELU(approximate='none')\n",
       "        (drop1): Dropout(p=0.0, inplace=False)\n",
       "        (norm): Identity()\n",
       "        (fc2): Linear(in_features=1536, out_features=384, bias=True)\n",
       "        (drop2): Dropout(p=0.0, inplace=False)\n",
       "      )\n",
       "      (ls2): Identity()\n",
       "      (drop_path2): Identity()\n",
       "    )\n",
       "    (9): Block(\n",
       "      (norm1): LayerNorm((384,), eps=1e-06, elementwise_affine=True)\n",
       "      (attn): Attention(\n",
       "        (qkv): Linear(in_features=384, out_features=1152, bias=True)\n",
       "        (q_norm): Identity()\n",
       "        (k_norm): Identity()\n",
       "        (attn_drop): Dropout(p=0.0, inplace=False)\n",
       "        (proj): Linear(in_features=384, out_features=384, bias=True)\n",
       "        (proj_drop): Dropout(p=0.0, inplace=False)\n",
       "      )\n",
       "      (ls1): Identity()\n",
       "      (drop_path1): Identity()\n",
       "      (norm2): LayerNorm((384,), eps=1e-06, elementwise_affine=True)\n",
       "      (mlp): Mlp(\n",
       "        (fc1): Linear(in_features=384, out_features=1536, bias=True)\n",
       "        (act): GELU(approximate='none')\n",
       "        (drop1): Dropout(p=0.0, inplace=False)\n",
       "        (norm): Identity()\n",
       "        (fc2): Linear(in_features=1536, out_features=384, bias=True)\n",
       "        (drop2): Dropout(p=0.0, inplace=False)\n",
       "      )\n",
       "      (ls2): Identity()\n",
       "      (drop_path2): Identity()\n",
       "    )\n",
       "    (10): Block(\n",
       "      (norm1): LayerNorm((384,), eps=1e-06, elementwise_affine=True)\n",
       "      (attn): Attention(\n",
       "        (qkv): Linear(in_features=384, out_features=1152, bias=True)\n",
       "        (q_norm): Identity()\n",
       "        (k_norm): Identity()\n",
       "        (attn_drop): Dropout(p=0.0, inplace=False)\n",
       "        (proj): Linear(in_features=384, out_features=384, bias=True)\n",
       "        (proj_drop): Dropout(p=0.0, inplace=False)\n",
       "      )\n",
       "      (ls1): Identity()\n",
       "      (drop_path1): Identity()\n",
       "      (norm2): LayerNorm((384,), eps=1e-06, elementwise_affine=True)\n",
       "      (mlp): Mlp(\n",
       "        (fc1): Linear(in_features=384, out_features=1536, bias=True)\n",
       "        (act): GELU(approximate='none')\n",
       "        (drop1): Dropout(p=0.0, inplace=False)\n",
       "        (norm): Identity()\n",
       "        (fc2): Linear(in_features=1536, out_features=384, bias=True)\n",
       "        (drop2): Dropout(p=0.0, inplace=False)\n",
       "      )\n",
       "      (ls2): Identity()\n",
       "      (drop_path2): Identity()\n",
       "    )\n",
       "    (11): Block(\n",
       "      (norm1): LayerNorm((384,), eps=1e-06, elementwise_affine=True)\n",
       "      (attn): Attention(\n",
       "        (qkv): Linear(in_features=384, out_features=1152, bias=True)\n",
       "        (q_norm): Identity()\n",
       "        (k_norm): Identity()\n",
       "        (attn_drop): Dropout(p=0.0, inplace=False)\n",
       "        (proj): Linear(in_features=384, out_features=384, bias=True)\n",
       "        (proj_drop): Dropout(p=0.0, inplace=False)\n",
       "      )\n",
       "      (ls1): Identity()\n",
       "      (drop_path1): Identity()\n",
       "      (norm2): LayerNorm((384,), eps=1e-06, elementwise_affine=True)\n",
       "      (mlp): Mlp(\n",
       "        (fc1): Linear(in_features=384, out_features=1536, bias=True)\n",
       "        (act): GELU(approximate='none')\n",
       "        (drop1): Dropout(p=0.0, inplace=False)\n",
       "        (norm): Identity()\n",
       "        (fc2): Linear(in_features=1536, out_features=384, bias=True)\n",
       "        (drop2): Dropout(p=0.0, inplace=False)\n",
       "      )\n",
       "      (ls2): Identity()\n",
       "      (drop_path2): Identity()\n",
       "    )\n",
       "  )\n",
       "  (norm): LayerNorm((384,), eps=1e-06, elementwise_affine=True)\n",
       "  (fc_norm): Identity()\n",
       "  (head_drop): Dropout(p=0.0, inplace=False)\n",
       "  (head): Linear(in_features=384, out_features=257, bias=True)\n",
       ")"
      ]
     },
     "execution_count": 64,
     "metadata": {},
     "output_type": "execute_result"
    }
   ],
   "source": [
    "import timm\n",
    "import torch.nn as nn\n",
    "\n",
    "model = timm.create_model('vit_small_patch16_224', pretrained=True)\n",
    "\n",
    "model.head = nn.Linear(model.head.in_features, 257)\n",
    "for param in model.parameters():\n",
    "    param.requires_grad = False\n",
    "\n",
    "# Unfreeze the head (final classification layer)\n",
    "for param in model.head.parameters():\n",
    "    param.requires_grad = True\n",
    "model.to(device)\n"
   ]
  },
  {
   "cell_type": "code",
   "execution_count": null,
   "metadata": {
    "colab": {
     "base_uri": "https://localhost:8080/"
    },
    "execution": {
     "iopub.execute_input": "2025-05-12T06:42:12.028849Z",
     "iopub.status.busy": "2025-05-12T06:42:12.028278Z",
     "iopub.status.idle": "2025-05-12T06:43:42.254683Z",
     "shell.execute_reply": "2025-05-12T06:43:42.253875Z",
     "shell.execute_reply.started": "2025-05-12T06:42:12.028827Z"
    },
    "id": "iFme70qPtmut",
    "outputId": "1bbe0c7f-7580-49c9-812f-99369b9647e0",
    "trusted": true
   },
   "outputs": [],
   "source": [
    "import torch.optim as optim\n",
    "import torch.nn as nn\n",
    "from tqdm import tqdm  # Import tqdm for progress bar\n",
    "from torch.cuda.amp import autocast, GradScaler\n",
    "\n",
    "scaler = GradScaler()\n",
    "\n",
    "criterion = nn.CrossEntropyLoss()\n",
    "optimizer = optim.AdamW(model.parameters(), lr=1e-4)\n",
    "\n",
    "for epoch in range(10):  # Adjust as needed\n",
    "    model.train()\n",
    "    total_loss = 0\n",
    "\n",
    "    # Wrap the dataloader with tqdm for a progress bar\n",
    "    for images, labels in tqdm(train_dataloader, desc=f\"Epoch {epoch + 1}\"):\n",
    "        images, labels = images.to(device), labels.to(device)\n",
    "\n",
    "        optimizer.zero_grad()\n",
    "        outputs = model(images)\n",
    "\n",
    "        with autocast():\n",
    "            outputs = model(images)\n",
    "            loss = criterion(outputs, labels)\n",
    "\n",
    "        scaler.scale(loss).backward()\n",
    "        scaler.step(optimizer)\n",
    "        scaler.update()\n",
    "\n",
    "        total_loss += loss.item()\n",
    "\n",
    "\n",
    "\n",
    "    print(f\"Epoch {epoch+1}, Loss: {total_loss/len(train_dataloader):.4f}\")\n",
    "\n"
   ]
  },
  {
   "cell_type": "code",
   "execution_count": 74,
   "metadata": {
    "colab": {
     "base_uri": "https://localhost:8080/"
    },
    "execution": {
     "iopub.execute_input": "2025-05-12T06:45:14.963541Z",
     "iopub.status.busy": "2025-05-12T06:45:14.962323Z",
     "iopub.status.idle": "2025-05-12T06:45:14.972211Z",
     "shell.execute_reply": "2025-05-12T06:45:14.970523Z",
     "shell.execute_reply.started": "2025-05-12T06:45:14.963475Z"
    },
    "id": "qGiWgMf0hErL",
    "outputId": "103410de-cca1-49fa-eeae-7342d0731f65",
    "trusted": true
   },
   "outputs": [
    {
     "data": {
      "text/plain": [
       "106.45647346973419"
      ]
     },
     "execution_count": 74,
     "metadata": {},
     "output_type": "execute_result"
    }
   ],
   "source": [
    "total_loss"
   ]
  },
  {
   "cell_type": "code",
   "execution_count": 66,
   "metadata": {
    "execution": {
     "iopub.execute_input": "2025-05-12T06:41:28.023006Z",
     "iopub.status.busy": "2025-05-12T06:41:28.022676Z",
     "iopub.status.idle": "2025-05-12T06:41:28.027211Z",
     "shell.execute_reply": "2025-05-12T06:41:28.026550Z",
     "shell.execute_reply.started": "2025-05-12T06:41:28.022981Z"
    },
    "id": "7mRCYO9G_yuY",
    "trusted": true
   },
   "outputs": [],
   "source": [
    "from sklearn.metrics import accuracy_score, precision_score, recall_score, f1_score, confusion_matrix"
   ]
  },
  {
   "cell_type": "code",
   "execution_count": 71,
   "metadata": {
    "colab": {
     "base_uri": "https://localhost:8080/"
    },
    "execution": {
     "iopub.execute_input": "2025-05-12T06:43:50.158792Z",
     "iopub.status.busy": "2025-05-12T06:43:50.157913Z",
     "iopub.status.idle": "2025-05-12T06:44:05.690022Z",
     "shell.execute_reply": "2025-05-12T06:44:05.689283Z",
     "shell.execute_reply.started": "2025-05-12T06:43:50.158761Z"
    },
    "id": "4mAEGGY9gbkw",
    "outputId": "2843dfb2-c4d0-4689-f29f-d517d3b0a5f9",
    "trusted": true
   },
   "outputs": [
    {
     "name": "stderr",
     "output_type": "stream",
     "text": [
      "Evaluating: 100%|██████████| 24/24 [00:15<00:00,  1.55it/s]\n"
     ]
    }
   ],
   "source": [
    "from tqdm import tqdm\n",
    "import numpy as np\n",
    "import torch\n",
    "all_predictions = []\n",
    "all_labels = []\n",
    "\n",
    "with torch.no_grad():  # Disable gradient calculation during inference\n",
    "    for images, labels in tqdm(test_dataloader, desc=\"Evaluating\"):\n",
    "        images, labels = images.to(device), labels.to(device)\n",
    "        outputs = model(images)\n",
    "        _, predicted = torch.max(outputs, 1)\n",
    "\n",
    "        all_predictions.extend(predicted.cpu().numpy())\n",
    "        all_labels.extend(labels.cpu().numpy())"
   ]
  },
  {
   "cell_type": "code",
   "execution_count": 72,
   "metadata": {
    "execution": {
     "iopub.execute_input": "2025-05-12T06:44:17.080469Z",
     "iopub.status.busy": "2025-05-12T06:44:17.079570Z",
     "iopub.status.idle": "2025-05-12T06:44:17.114632Z",
     "shell.execute_reply": "2025-05-12T06:44:17.113883Z",
     "shell.execute_reply.started": "2025-05-12T06:44:17.080435Z"
    },
    "id": "6SaLxdS_iDRX",
    "trusted": true
   },
   "outputs": [],
   "source": [
    "accuracy = accuracy_score(all_labels, all_predictions)\n",
    "precision = precision_score(all_labels, all_predictions, average='weighted')  # Use 'weighted' for multi-class\n",
    "recall = recall_score(all_labels, all_predictions, average='weighted')\n",
    "f1 = f1_score(all_labels, all_predictions, average='weighted')"
   ]
  },
  {
   "cell_type": "code",
   "execution_count": 73,
   "metadata": {
    "colab": {
     "base_uri": "https://localhost:8080/"
    },
    "execution": {
     "iopub.execute_input": "2025-05-12T06:44:19.133338Z",
     "iopub.status.busy": "2025-05-12T06:44:19.132671Z",
     "iopub.status.idle": "2025-05-12T06:44:19.264150Z",
     "shell.execute_reply": "2025-05-12T06:44:19.263443Z",
     "shell.execute_reply.started": "2025-05-12T06:44:19.133311Z"
    },
    "id": "ZQ0o8KMbwaEx",
    "outputId": "ac5d115c-e35c-4f80-8ee6-00e765a4c941",
    "trusted": true
   },
   "outputs": [
    {
     "name": "stdout",
     "output_type": "stream",
     "text": [
      "Top-1 Accuracy: 0.8502\n",
      "Precision: 0.8538\n",
      "Recall: 0.8502\n",
      "F1-score: 0.8457\n"
     ]
    },
    {
     "data": {
      "image/png": "[encoded data removed]",
      "text/plain": [
       "<Figure size 800x500 with 1 Axes>"
      ]
     },
     "metadata": {},
     "output_type": "display_data"
    }
   ],
   "source": [
    "from sklearn.metrics import precision_score, recall_score, f1_score, accuracy_score\n",
    "import matplotlib.pyplot as plt\n",
    "print(f\"Top-1 Accuracy: {accuracy:.4f}\")\n",
    "print(f\"Precision: {precision:.4f}\")\n",
    "print(f\"Recall: {recall:.4f}\")\n",
    "print(f\"F1-score: {f1:.4f}\")\n",
    "metrics = [accuracy, precision, recall, f1]\n",
    "#metrics = [0.85, 0.90, 0.78, 0.92]  # Example metrics (e.g., accuracy, precision, recall, F1)\n",
    "labels = ['Accuracy', 'Precision', 'Recall', 'F1 Score']\n",
    "\n",
    "# Plotting the bar chart\n",
    "plt.figure(figsize=(8, 5))\n",
    "bars = plt.bar(labels, metrics, color=['skyblue', 'orange', 'green', 'red'])\n",
    "\n",
    "# Adding text on top of each bar\n",
    "for bar in bars:\n",
    "    yval = bar.get_height()  # Get the height of each bar\n",
    "    plt.text(bar.get_x() + bar.get_width() / 2, yval + 0.01,  # Place text slightly above the bar\n",
    "             f'{yval:.4f}', ha='center', va='bottom', fontsize=12)\n",
    "\n",
    "plt.ylim(0, 1)  # Set y-axis limits for better spacing above the bars\n",
    "plt.ylabel('Score')\n",
    "plt.title('Classification Metrics')\n",
    "plt.show()"
   ]
  },
  {
   "cell_type": "code",
   "execution_count": 14,
   "metadata": {
    "colab": {
     "base_uri": "https://localhost:8080/"
    },
    "collapsed": true,
    "execution": {
     "iopub.execute_input": "2025-05-12T08:20:54.314199Z",
     "iopub.status.busy": "2025-05-12T08:20:54.313907Z",
     "iopub.status.idle": "2025-05-12T08:20:55.317654Z",
     "shell.execute_reply": "2025-05-12T08:20:55.316891Z",
     "shell.execute_reply.started": "2025-05-12T08:20:54.314178Z"
    },
    "id": "exZ1EEgLdugj",
    "jupyter": {
     "outputs_hidden": true
    },
    "outputId": "3f51b3c8-0ead-4950-878f-3ff431ca7496",
    "trusted": true
   },
   "outputs": [
    {
     "data": {
      "text/plain": [
       "MaxxVit(\n",
       "  (stem): Stem(\n",
       "    (conv1): Conv2d(3, 32, kernel_size=(3, 3), stride=(2, 2), padding=(1, 1), bias=False)\n",
       "    (norm1): BatchNormAct2d(\n",
       "      32, eps=1e-05, momentum=0.1, affine=True, track_running_stats=True\n",
       "      (drop): Identity()\n",
       "      (act): SiLU(inplace=True)\n",
       "    )\n",
       "    (conv2): Conv2d(32, 64, kernel_size=(3, 3), stride=(1, 1), padding=(1, 1), bias=False)\n",
       "  )\n",
       "  (stages): Sequential(\n",
       "    (0): MaxxVitStage(\n",
       "      (blocks): Sequential(\n",
       "        (0): MbConvBlock(\n",
       "          (shortcut): Downsample2d(\n",
       "            (pool): AvgPool2d(kernel_size=2, stride=2, padding=0)\n",
       "            (expand): Conv2d(64, 96, kernel_size=(1, 1), stride=(1, 1), bias=False)\n",
       "          )\n",
       "          (pre_norm): BatchNormAct2d(\n",
       "            64, eps=1e-05, momentum=0.1, affine=True, track_running_stats=True\n",
       "            (drop): Identity()\n",
       "            (act): SiLU(inplace=True)\n",
       "          )\n",
       "          (down): Identity()\n",
       "          (conv1_1x1): Conv2d(64, 256, kernel_size=(1, 1), stride=(1, 1), bias=False)\n",
       "          (norm1): BatchNormAct2d(\n",
       "            256, eps=1e-05, momentum=0.1, affine=True, track_running_stats=True\n",
       "            (drop): Identity()\n",
       "            (act): SiLU(inplace=True)\n",
       "          )\n",
       "          (conv2_kxk): Conv2d(256, 256, kernel_size=(3, 3), stride=(2, 2), padding=(1, 1), groups=256, bias=False)\n",
       "          (se_early): SEModule(\n",
       "            (fc1): Conv2d(256, 64, kernel_size=(1, 1), stride=(1, 1))\n",
       "            (bn): Identity()\n",
       "            (act): ReLU(inplace=True)\n",
       "            (fc2): Conv2d(64, 256, kernel_size=(1, 1), stride=(1, 1))\n",
       "            (gate): Sigmoid()\n",
       "          )\n",
       "          (norm2): BatchNormAct2d(\n",
       "            256, eps=1e-05, momentum=0.1, affine=True, track_running_stats=True\n",
       "            (drop): Identity()\n",
       "            (act): SiLU(inplace=True)\n",
       "          )\n",
       "          (conv3_1x1): Conv2d(256, 96, kernel_size=(1, 1), stride=(1, 1), bias=False)\n",
       "          (drop_path): Identity()\n",
       "        )\n",
       "        (1): MbConvBlock(\n",
       "          (shortcut): Identity()\n",
       "          (pre_norm): BatchNormAct2d(\n",
       "            96, eps=1e-05, momentum=0.1, affine=True, track_running_stats=True\n",
       "            (drop): Identity()\n",
       "            (act): SiLU(inplace=True)\n",
       "          )\n",
       "          (down): Identity()\n",
       "          (conv1_1x1): Conv2d(96, 384, kernel_size=(1, 1), stride=(1, 1), bias=False)\n",
       "          (norm1): BatchNormAct2d(\n",
       "            384, eps=1e-05, momentum=0.1, affine=True, track_running_stats=True\n",
       "            (drop): Identity()\n",
       "            (act): SiLU(inplace=True)\n",
       "          )\n",
       "          (conv2_kxk): Conv2d(384, 384, kernel_size=(3, 3), stride=(1, 1), padding=(1, 1), groups=384, bias=False)\n",
       "          (se_early): SEModule(\n",
       "            (fc1): Conv2d(384, 96, kernel_size=(1, 1), stride=(1, 1))\n",
       "            (bn): Identity()\n",
       "            (act): ReLU(inplace=True)\n",
       "            (fc2): Conv2d(96, 384, kernel_size=(1, 1), stride=(1, 1))\n",
       "            (gate): Sigmoid()\n",
       "          )\n",
       "          (norm2): BatchNormAct2d(\n",
       "            384, eps=1e-05, momentum=0.1, affine=True, track_running_stats=True\n",
       "            (drop): Identity()\n",
       "            (act): SiLU(inplace=True)\n",
       "          )\n",
       "          (conv3_1x1): Conv2d(384, 96, kernel_size=(1, 1), stride=(1, 1), bias=False)\n",
       "          (drop_path): Identity()\n",
       "        )\n",
       "      )\n",
       "    )\n",
       "    (1): MaxxVitStage(\n",
       "      (blocks): Sequential(\n",
       "        (0): MbConvBlock(\n",
       "          (shortcut): Downsample2d(\n",
       "            (pool): AvgPool2d(kernel_size=2, stride=2, padding=0)\n",
       "            (expand): Conv2d(96, 192, kernel_size=(1, 1), stride=(1, 1), bias=False)\n",
       "          )\n",
       "          (pre_norm): BatchNormAct2d(\n",
       "            96, eps=1e-05, momentum=0.1, affine=True, track_running_stats=True\n",
       "            (drop): Identity()\n",
       "            (act): SiLU(inplace=True)\n",
       "          )\n",
       "          (down): Identity()\n",
       "          (conv1_1x1): Conv2d(96, 384, kernel_size=(1, 1), stride=(1, 1), bias=False)\n",
       "          (norm1): BatchNormAct2d(\n",
       "            384, eps=1e-05, momentum=0.1, affine=True, track_running_stats=True\n",
       "            (drop): Identity()\n",
       "            (act): SiLU(inplace=True)\n",
       "          )\n",
       "          (conv2_kxk): Conv2d(384, 384, kernel_size=(3, 3), stride=(2, 2), padding=(1, 1), groups=384, bias=False)\n",
       "          (se_early): SEModule(\n",
       "            (fc1): Conv2d(384, 96, kernel_size=(1, 1), stride=(1, 1))\n",
       "            (bn): Identity()\n",
       "            (act): ReLU(inplace=True)\n",
       "            (fc2): Conv2d(96, 384, kernel_size=(1, 1), stride=(1, 1))\n",
       "            (gate): Sigmoid()\n",
       "          )\n",
       "          (norm2): BatchNormAct2d(\n",
       "            384, eps=1e-05, momentum=0.1, affine=True, track_running_stats=True\n",
       "            (drop): Identity()\n",
       "            (act): SiLU(inplace=True)\n",
       "          )\n",
       "          (conv3_1x1): Conv2d(384, 192, kernel_size=(1, 1), stride=(1, 1), bias=False)\n",
       "          (drop_path): Identity()\n",
       "        )\n",
       "        (1): MbConvBlock(\n",
       "          (shortcut): Identity()\n",
       "          (pre_norm): BatchNormAct2d(\n",
       "            192, eps=1e-05, momentum=0.1, affine=True, track_running_stats=True\n",
       "            (drop): Identity()\n",
       "            (act): SiLU(inplace=True)\n",
       "          )\n",
       "          (down): Identity()\n",
       "          (conv1_1x1): Conv2d(192, 768, kernel_size=(1, 1), stride=(1, 1), bias=False)\n",
       "          (norm1): BatchNormAct2d(\n",
       "            768, eps=1e-05, momentum=0.1, affine=True, track_running_stats=True\n",
       "            (drop): Identity()\n",
       "            (act): SiLU(inplace=True)\n",
       "          )\n",
       "          (conv2_kxk): Conv2d(768, 768, kernel_size=(3, 3), stride=(1, 1), padding=(1, 1), groups=768, bias=False)\n",
       "          (se_early): SEModule(\n",
       "            (fc1): Conv2d(768, 192, kernel_size=(1, 1), stride=(1, 1))\n",
       "            (bn): Identity()\n",
       "            (act): ReLU(inplace=True)\n",
       "            (fc2): Conv2d(192, 768, kernel_size=(1, 1), stride=(1, 1))\n",
       "            (gate): Sigmoid()\n",
       "          )\n",
       "          (norm2): BatchNormAct2d(\n",
       "            768, eps=1e-05, momentum=0.1, affine=True, track_running_stats=True\n",
       "            (drop): Identity()\n",
       "            (act): SiLU(inplace=True)\n",
       "          )\n",
       "          (conv3_1x1): Conv2d(768, 192, kernel_size=(1, 1), stride=(1, 1), bias=False)\n",
       "          (drop_path): Identity()\n",
       "        )\n",
       "        (2): MbConvBlock(\n",
       "          (shortcut): Identity()\n",
       "          (pre_norm): BatchNormAct2d(\n",
       "            192, eps=1e-05, momentum=0.1, affine=True, track_running_stats=True\n",
       "            (drop): Identity()\n",
       "            (act): SiLU(inplace=True)\n",
       "          )\n",
       "          (down): Identity()\n",
       "          (conv1_1x1): Conv2d(192, 768, kernel_size=(1, 1), stride=(1, 1), bias=False)\n",
       "          (norm1): BatchNormAct2d(\n",
       "            768, eps=1e-05, momentum=0.1, affine=True, track_running_stats=True\n",
       "            (drop): Identity()\n",
       "            (act): SiLU(inplace=True)\n",
       "          )\n",
       "          (conv2_kxk): Conv2d(768, 768, kernel_size=(3, 3), stride=(1, 1), padding=(1, 1), groups=768, bias=False)\n",
       "          (se_early): SEModule(\n",
       "            (fc1): Conv2d(768, 192, kernel_size=(1, 1), stride=(1, 1))\n",
       "            (bn): Identity()\n",
       "            (act): ReLU(inplace=True)\n",
       "            (fc2): Conv2d(192, 768, kernel_size=(1, 1), stride=(1, 1))\n",
       "            (gate): Sigmoid()\n",
       "          )\n",
       "          (norm2): BatchNormAct2d(\n",
       "            768, eps=1e-05, momentum=0.1, affine=True, track_running_stats=True\n",
       "            (drop): Identity()\n",
       "            (act): SiLU(inplace=True)\n",
       "          )\n",
       "          (conv3_1x1): Conv2d(768, 192, kernel_size=(1, 1), stride=(1, 1), bias=False)\n",
       "          (drop_path): Identity()\n",
       "        )\n",
       "        (3): MbConvBlock(\n",
       "          (shortcut): Identity()\n",
       "          (pre_norm): BatchNormAct2d(\n",
       "            192, eps=1e-05, momentum=0.1, affine=True, track_running_stats=True\n",
       "            (drop): Identity()\n",
       "            (act): SiLU(inplace=True)\n",
       "          )\n",
       "          (down): Identity()\n",
       "          (conv1_1x1): Conv2d(192, 768, kernel_size=(1, 1), stride=(1, 1), bias=False)\n",
       "          (norm1): BatchNormAct2d(\n",
       "            768, eps=1e-05, momentum=0.1, affine=True, track_running_stats=True\n",
       "            (drop): Identity()\n",
       "            (act): SiLU(inplace=True)\n",
       "          )\n",
       "          (conv2_kxk): Conv2d(768, 768, kernel_size=(3, 3), stride=(1, 1), padding=(1, 1), groups=768, bias=False)\n",
       "          (se_early): SEModule(\n",
       "            (fc1): Conv2d(768, 192, kernel_size=(1, 1), stride=(1, 1))\n",
       "            (bn): Identity()\n",
       "            (act): ReLU(inplace=True)\n",
       "            (fc2): Conv2d(192, 768, kernel_size=(1, 1), stride=(1, 1))\n",
       "            (gate): Sigmoid()\n",
       "          )\n",
       "          (norm2): BatchNormAct2d(\n",
       "            768, eps=1e-05, momentum=0.1, affine=True, track_running_stats=True\n",
       "            (drop): Identity()\n",
       "            (act): SiLU(inplace=True)\n",
       "          )\n",
       "          (conv3_1x1): Conv2d(768, 192, kernel_size=(1, 1), stride=(1, 1), bias=False)\n",
       "          (drop_path): Identity()\n",
       "        )\n",
       "        (4): MbConvBlock(\n",
       "          (shortcut): Identity()\n",
       "          (pre_norm): BatchNormAct2d(\n",
       "            192, eps=1e-05, momentum=0.1, affine=True, track_running_stats=True\n",
       "            (drop): Identity()\n",
       "            (act): SiLU(inplace=True)\n",
       "          )\n",
       "          (down): Identity()\n",
       "          (conv1_1x1): Conv2d(192, 768, kernel_size=(1, 1), stride=(1, 1), bias=False)\n",
       "          (norm1): BatchNormAct2d(\n",
       "            768, eps=1e-05, momentum=0.1, affine=True, track_running_stats=True\n",
       "            (drop): Identity()\n",
       "            (act): SiLU(inplace=True)\n",
       "          )\n",
       "          (conv2_kxk): Conv2d(768, 768, kernel_size=(3, 3), stride=(1, 1), padding=(1, 1), groups=768, bias=False)\n",
       "          (se_early): SEModule(\n",
       "            (fc1): Conv2d(768, 192, kernel_size=(1, 1), stride=(1, 1))\n",
       "            (bn): Identity()\n",
       "            (act): ReLU(inplace=True)\n",
       "            (fc2): Conv2d(192, 768, kernel_size=(1, 1), stride=(1, 1))\n",
       "            (gate): Sigmoid()\n",
       "          )\n",
       "          (norm2): BatchNormAct2d(\n",
       "            768, eps=1e-05, momentum=0.1, affine=True, track_running_stats=True\n",
       "            (drop): Identity()\n",
       "            (act): SiLU(inplace=True)\n",
       "          )\n",
       "          (conv3_1x1): Conv2d(768, 192, kernel_size=(1, 1), stride=(1, 1), bias=False)\n",
       "          (drop_path): Identity()\n",
       "        )\n",
       "        (5): MbConvBlock(\n",
       "          (shortcut): Identity()\n",
       "          (pre_norm): BatchNormAct2d(\n",
       "            192, eps=1e-05, momentum=0.1, affine=True, track_running_stats=True\n",
       "            (drop): Identity()\n",
       "            (act): SiLU(inplace=True)\n",
       "          )\n",
       "          (down): Identity()\n",
       "          (conv1_1x1): Conv2d(192, 768, kernel_size=(1, 1), stride=(1, 1), bias=False)\n",
       "          (norm1): BatchNormAct2d(\n",
       "            768, eps=1e-05, momentum=0.1, affine=True, track_running_stats=True\n",
       "            (drop): Identity()\n",
       "            (act): SiLU(inplace=True)\n",
       "          )\n",
       "          (conv2_kxk): Conv2d(768, 768, kernel_size=(3, 3), stride=(1, 1), padding=(1, 1), groups=768, bias=False)\n",
       "          (se_early): SEModule(\n",
       "            (fc1): Conv2d(768, 192, kernel_size=(1, 1), stride=(1, 1))\n",
       "            (bn): Identity()\n",
       "            (act): ReLU(inplace=True)\n",
       "            (fc2): Conv2d(192, 768, kernel_size=(1, 1), stride=(1, 1))\n",
       "            (gate): Sigmoid()\n",
       "          )\n",
       "          (norm2): BatchNormAct2d(\n",
       "            768, eps=1e-05, momentum=0.1, affine=True, track_running_stats=True\n",
       "            (drop): Identity()\n",
       "            (act): SiLU(inplace=True)\n",
       "          )\n",
       "          (conv3_1x1): Conv2d(768, 192, kernel_size=(1, 1), stride=(1, 1), bias=False)\n",
       "          (drop_path): Identity()\n",
       "        )\n",
       "      )\n",
       "    )\n",
       "    (2): MaxxVitStage(\n",
       "      (blocks): Sequential(\n",
       "        (0): TransformerBlock2d(\n",
       "          (shortcut): Downsample2d(\n",
       "            (pool): AvgPool2d(kernel_size=2, stride=2, padding=0)\n",
       "            (expand): Conv2d(192, 384, kernel_size=(1, 1), stride=(1, 1), bias=False)\n",
       "          )\n",
       "          (norm1): Sequential(\n",
       "            (norm): LayerNorm2d((192,), eps=1e-06, elementwise_affine=True)\n",
       "            (down): Downsample2d(\n",
       "              (pool): AvgPool2d(kernel_size=2, stride=2, padding=0)\n",
       "              (expand): Identity()\n",
       "            )\n",
       "          )\n",
       "          (attn): Attention2d(\n",
       "            (qkv): Conv2d(192, 576, kernel_size=(1, 1), stride=(1, 1))\n",
       "            (rel_pos): RelPosBias()\n",
       "            (attn_drop): Dropout(p=0.0, inplace=False)\n",
       "            (proj): Conv2d(192, 384, kernel_size=(1, 1), stride=(1, 1))\n",
       "            (proj_drop): Dropout(p=0.0, inplace=False)\n",
       "          )\n",
       "          (ls1): Identity()\n",
       "          (drop_path1): Identity()\n",
       "          (norm2): LayerNorm2d((384,), eps=1e-06, elementwise_affine=True)\n",
       "          (mlp): ConvMlp(\n",
       "            (fc1): Conv2d(384, 1536, kernel_size=(1, 1), stride=(1, 1))\n",
       "            (norm): Identity()\n",
       "            (act): GELU()\n",
       "            (drop): Dropout(p=0.0, inplace=False)\n",
       "            (fc2): Conv2d(1536, 384, kernel_size=(1, 1), stride=(1, 1))\n",
       "          )\n",
       "          (ls2): Identity()\n",
       "          (drop_path2): Identity()\n",
       "        )\n",
       "        (1): TransformerBlock2d(\n",
       "          (shortcut): Identity()\n",
       "          (norm1): LayerNorm2d((384,), eps=1e-06, elementwise_affine=True)\n",
       "          (attn): Attention2d(\n",
       "            (qkv): Conv2d(384, 1152, kernel_size=(1, 1), stride=(1, 1))\n",
       "            (rel_pos): RelPosBias()\n",
       "            (attn_drop): Dropout(p=0.0, inplace=False)\n",
       "            (proj): Conv2d(384, 384, kernel_size=(1, 1), stride=(1, 1))\n",
       "            (proj_drop): Dropout(p=0.0, inplace=False)\n",
       "          )\n",
       "          (ls1): Identity()\n",
       "          (drop_path1): Identity()\n",
       "          (norm2): LayerNorm2d((384,), eps=1e-06, elementwise_affine=True)\n",
       "          (mlp): ConvMlp(\n",
       "            (fc1): Conv2d(384, 1536, kernel_size=(1, 1), stride=(1, 1))\n",
       "            (norm): Identity()\n",
       "            (act): GELU()\n",
       "            (drop): Dropout(p=0.0, inplace=False)\n",
       "            (fc2): Conv2d(1536, 384, kernel_size=(1, 1), stride=(1, 1))\n",
       "          )\n",
       "          (ls2): Identity()\n",
       "          (drop_path2): Identity()\n",
       "        )\n",
       "        (2): TransformerBlock2d(\n",
       "          (shortcut): Identity()\n",
       "          (norm1): LayerNorm2d((384,), eps=1e-06, elementwise_affine=True)\n",
       "          (attn): Attention2d(\n",
       "            (qkv): Conv2d(384, 1152, kernel_size=(1, 1), stride=(1, 1))\n",
       "            (rel_pos): RelPosBias()\n",
       "            (attn_drop): Dropout(p=0.0, inplace=False)\n",
       "            (proj): Conv2d(384, 384, kernel_size=(1, 1), stride=(1, 1))\n",
       "            (proj_drop): Dropout(p=0.0, inplace=False)\n",
       "          )\n",
       "          (ls1): Identity()\n",
       "          (drop_path1): Identity()\n",
       "          (norm2): LayerNorm2d((384,), eps=1e-06, elementwise_affine=True)\n",
       "          (mlp): ConvMlp(\n",
       "            (fc1): Conv2d(384, 1536, kernel_size=(1, 1), stride=(1, 1))\n",
       "            (norm): Identity()\n",
       "            (act): GELU()\n",
       "            (drop): Dropout(p=0.0, inplace=False)\n",
       "            (fc2): Conv2d(1536, 384, kernel_size=(1, 1), stride=(1, 1))\n",
       "          )\n",
       "          (ls2): Identity()\n",
       "          (drop_path2): Identity()\n",
       "        )\n",
       "        (3): TransformerBlock2d(\n",
       "          (shortcut): Identity()\n",
       "          (norm1): LayerNorm2d((384,), eps=1e-06, elementwise_affine=True)\n",
       "          (attn): Attention2d(\n",
       "            (qkv): Conv2d(384, 1152, kernel_size=(1, 1), stride=(1, 1))\n",
       "            (rel_pos): RelPosBias()\n",
       "            (attn_drop): Dropout(p=0.0, inplace=False)\n",
       "            (proj): Conv2d(384, 384, kernel_size=(1, 1), stride=(1, 1))\n",
       "            (proj_drop): Dropout(p=0.0, inplace=False)\n",
       "          )\n",
       "          (ls1): Identity()\n",
       "          (drop_path1): Identity()\n",
       "          (norm2): LayerNorm2d((384,), eps=1e-06, elementwise_affine=True)\n",
       "          (mlp): ConvMlp(\n",
       "            (fc1): Conv2d(384, 1536, kernel_size=(1, 1), stride=(1, 1))\n",
       "            (norm): Identity()\n",
       "            (act): GELU()\n",
       "            (drop): Dropout(p=0.0, inplace=False)\n",
       "            (fc2): Conv2d(1536, 384, kernel_size=(1, 1), stride=(1, 1))\n",
       "          )\n",
       "          (ls2): Identity()\n",
       "          (drop_path2): Identity()\n",
       "        )\n",
       "        (4): TransformerBlock2d(\n",
       "          (shortcut): Identity()\n",
       "          (norm1): LayerNorm2d((384,), eps=1e-06, elementwise_affine=True)\n",
       "          (attn): Attention2d(\n",
       "            (qkv): Conv2d(384, 1152, kernel_size=(1, 1), stride=(1, 1))\n",
       "            (rel_pos): RelPosBias()\n",
       "            (attn_drop): Dropout(p=0.0, inplace=False)\n",
       "            (proj): Conv2d(384, 384, kernel_size=(1, 1), stride=(1, 1))\n",
       "            (proj_drop): Dropout(p=0.0, inplace=False)\n",
       "          )\n",
       "          (ls1): Identity()\n",
       "          (drop_path1): Identity()\n",
       "          (norm2): LayerNorm2d((384,), eps=1e-06, elementwise_affine=True)\n",
       "          (mlp): ConvMlp(\n",
       "            (fc1): Conv2d(384, 1536, kernel_size=(1, 1), stride=(1, 1))\n",
       "            (norm): Identity()\n",
       "            (act): GELU()\n",
       "            (drop): Dropout(p=0.0, inplace=False)\n",
       "            (fc2): Conv2d(1536, 384, kernel_size=(1, 1), stride=(1, 1))\n",
       "          )\n",
       "          (ls2): Identity()\n",
       "          (drop_path2): Identity()\n",
       "        )\n",
       "        (5): TransformerBlock2d(\n",
       "          (shortcut): Identity()\n",
       "          (norm1): LayerNorm2d((384,), eps=1e-06, elementwise_affine=True)\n",
       "          (attn): Attention2d(\n",
       "            (qkv): Conv2d(384, 1152, kernel_size=(1, 1), stride=(1, 1))\n",
       "            (rel_pos): RelPosBias()\n",
       "            (attn_drop): Dropout(p=0.0, inplace=False)\n",
       "            (proj): Conv2d(384, 384, kernel_size=(1, 1), stride=(1, 1))\n",
       "            (proj_drop): Dropout(p=0.0, inplace=False)\n",
       "          )\n",
       "          (ls1): Identity()\n",
       "          (drop_path1): Identity()\n",
       "          (norm2): LayerNorm2d((384,), eps=1e-06, elementwise_affine=True)\n",
       "          (mlp): ConvMlp(\n",
       "            (fc1): Conv2d(384, 1536, kernel_size=(1, 1), stride=(1, 1))\n",
       "            (norm): Identity()\n",
       "            (act): GELU()\n",
       "            (drop): Dropout(p=0.0, inplace=False)\n",
       "            (fc2): Conv2d(1536, 384, kernel_size=(1, 1), stride=(1, 1))\n",
       "          )\n",
       "          (ls2): Identity()\n",
       "          (drop_path2): Identity()\n",
       "        )\n",
       "        (6): TransformerBlock2d(\n",
       "          (shortcut): Identity()\n",
       "          (norm1): LayerNorm2d((384,), eps=1e-06, elementwise_affine=True)\n",
       "          (attn): Attention2d(\n",
       "            (qkv): Conv2d(384, 1152, kernel_size=(1, 1), stride=(1, 1))\n",
       "            (rel_pos): RelPosBias()\n",
       "            (attn_drop): Dropout(p=0.0, inplace=False)\n",
       "            (proj): Conv2d(384, 384, kernel_size=(1, 1), stride=(1, 1))\n",
       "            (proj_drop): Dropout(p=0.0, inplace=False)\n",
       "          )\n",
       "          (ls1): Identity()\n",
       "          (drop_path1): Identity()\n",
       "          (norm2): LayerNorm2d((384,), eps=1e-06, elementwise_affine=True)\n",
       "          (mlp): ConvMlp(\n",
       "            (fc1): Conv2d(384, 1536, kernel_size=(1, 1), stride=(1, 1))\n",
       "            (norm): Identity()\n",
       "            (act): GELU()\n",
       "            (drop): Dropout(p=0.0, inplace=False)\n",
       "            (fc2): Conv2d(1536, 384, kernel_size=(1, 1), stride=(1, 1))\n",
       "          )\n",
       "          (ls2): Identity()\n",
       "          (drop_path2): Identity()\n",
       "        )\n",
       "        (7): TransformerBlock2d(\n",
       "          (shortcut): Identity()\n",
       "          (norm1): LayerNorm2d((384,), eps=1e-06, elementwise_affine=True)\n",
       "          (attn): Attention2d(\n",
       "            (qkv): Conv2d(384, 1152, kernel_size=(1, 1), stride=(1, 1))\n",
       "            (rel_pos): RelPosBias()\n",
       "            (attn_drop): Dropout(p=0.0, inplace=False)\n",
       "            (proj): Conv2d(384, 384, kernel_size=(1, 1), stride=(1, 1))\n",
       "            (proj_drop): Dropout(p=0.0, inplace=False)\n",
       "          )\n",
       "          (ls1): Identity()\n",
       "          (drop_path1): Identity()\n",
       "          (norm2): LayerNorm2d((384,), eps=1e-06, elementwise_affine=True)\n",
       "          (mlp): ConvMlp(\n",
       "            (fc1): Conv2d(384, 1536, kernel_size=(1, 1), stride=(1, 1))\n",
       "            (norm): Identity()\n",
       "            (act): GELU()\n",
       "            (drop): Dropout(p=0.0, inplace=False)\n",
       "            (fc2): Conv2d(1536, 384, kernel_size=(1, 1), stride=(1, 1))\n",
       "          )\n",
       "          (ls2): Identity()\n",
       "          (drop_path2): Identity()\n",
       "        )\n",
       "        (8): TransformerBlock2d(\n",
       "          (shortcut): Identity()\n",
       "          (norm1): LayerNorm2d((384,), eps=1e-06, elementwise_affine=True)\n",
       "          (attn): Attention2d(\n",
       "            (qkv): Conv2d(384, 1152, kernel_size=(1, 1), stride=(1, 1))\n",
       "            (rel_pos): RelPosBias()\n",
       "            (attn_drop): Dropout(p=0.0, inplace=False)\n",
       "            (proj): Conv2d(384, 384, kernel_size=(1, 1), stride=(1, 1))\n",
       "            (proj_drop): Dropout(p=0.0, inplace=False)\n",
       "          )\n",
       "          (ls1): Identity()\n",
       "          (drop_path1): Identity()\n",
       "          (norm2): LayerNorm2d((384,), eps=1e-06, elementwise_affine=True)\n",
       "          (mlp): ConvMlp(\n",
       "            (fc1): Conv2d(384, 1536, kernel_size=(1, 1), stride=(1, 1))\n",
       "            (norm): Identity()\n",
       "            (act): GELU()\n",
       "            (drop): Dropout(p=0.0, inplace=False)\n",
       "            (fc2): Conv2d(1536, 384, kernel_size=(1, 1), stride=(1, 1))\n",
       "          )\n",
       "          (ls2): Identity()\n",
       "          (drop_path2): Identity()\n",
       "        )\n",
       "        (9): TransformerBlock2d(\n",
       "          (shortcut): Identity()\n",
       "          (norm1): LayerNorm2d((384,), eps=1e-06, elementwise_affine=True)\n",
       "          (attn): Attention2d(\n",
       "            (qkv): Conv2d(384, 1152, kernel_size=(1, 1), stride=(1, 1))\n",
       "            (rel_pos): RelPosBias()\n",
       "            (attn_drop): Dropout(p=0.0, inplace=False)\n",
       "            (proj): Conv2d(384, 384, kernel_size=(1, 1), stride=(1, 1))\n",
       "            (proj_drop): Dropout(p=0.0, inplace=False)\n",
       "          )\n",
       "          (ls1): Identity()\n",
       "          (drop_path1): Identity()\n",
       "          (norm2): LayerNorm2d((384,), eps=1e-06, elementwise_affine=True)\n",
       "          (mlp): ConvMlp(\n",
       "            (fc1): Conv2d(384, 1536, kernel_size=(1, 1), stride=(1, 1))\n",
       "            (norm): Identity()\n",
       "            (act): GELU()\n",
       "            (drop): Dropout(p=0.0, inplace=False)\n",
       "            (fc2): Conv2d(1536, 384, kernel_size=(1, 1), stride=(1, 1))\n",
       "          )\n",
       "          (ls2): Identity()\n",
       "          (drop_path2): Identity()\n",
       "        )\n",
       "        (10): TransformerBlock2d(\n",
       "          (shortcut): Identity()\n",
       "          (norm1): LayerNorm2d((384,), eps=1e-06, elementwise_affine=True)\n",
       "          (attn): Attention2d(\n",
       "            (qkv): Conv2d(384, 1152, kernel_size=(1, 1), stride=(1, 1))\n",
       "            (rel_pos): RelPosBias()\n",
       "            (attn_drop): Dropout(p=0.0, inplace=False)\n",
       "            (proj): Conv2d(384, 384, kernel_size=(1, 1), stride=(1, 1))\n",
       "            (proj_drop): Dropout(p=0.0, inplace=False)\n",
       "          )\n",
       "          (ls1): Identity()\n",
       "          (drop_path1): Identity()\n",
       "          (norm2): LayerNorm2d((384,), eps=1e-06, elementwise_affine=True)\n",
       "          (mlp): ConvMlp(\n",
       "            (fc1): Conv2d(384, 1536, kernel_size=(1, 1), stride=(1, 1))\n",
       "            (norm): Identity()\n",
       "            (act): GELU()\n",
       "            (drop): Dropout(p=0.0, inplace=False)\n",
       "            (fc2): Conv2d(1536, 384, kernel_size=(1, 1), stride=(1, 1))\n",
       "          )\n",
       "          (ls2): Identity()\n",
       "          (drop_path2): Identity()\n",
       "        )\n",
       "        (11): TransformerBlock2d(\n",
       "          (shortcut): Identity()\n",
       "          (norm1): LayerNorm2d((384,), eps=1e-06, elementwise_affine=True)\n",
       "          (attn): Attention2d(\n",
       "            (qkv): Conv2d(384, 1152, kernel_size=(1, 1), stride=(1, 1))\n",
       "            (rel_pos): RelPosBias()\n",
       "            (attn_drop): Dropout(p=0.0, inplace=False)\n",
       "            (proj): Conv2d(384, 384, kernel_size=(1, 1), stride=(1, 1))\n",
       "            (proj_drop): Dropout(p=0.0, inplace=False)\n",
       "          )\n",
       "          (ls1): Identity()\n",
       "          (drop_path1): Identity()\n",
       "          (norm2): LayerNorm2d((384,), eps=1e-06, elementwise_affine=True)\n",
       "          (mlp): ConvMlp(\n",
       "            (fc1): Conv2d(384, 1536, kernel_size=(1, 1), stride=(1, 1))\n",
       "            (norm): Identity()\n",
       "            (act): GELU()\n",
       "            (drop): Dropout(p=0.0, inplace=False)\n",
       "            (fc2): Conv2d(1536, 384, kernel_size=(1, 1), stride=(1, 1))\n",
       "          )\n",
       "          (ls2): Identity()\n",
       "          (drop_path2): Identity()\n",
       "        )\n",
       "        (12): TransformerBlock2d(\n",
       "          (shortcut): Identity()\n",
       "          (norm1): LayerNorm2d((384,), eps=1e-06, elementwise_affine=True)\n",
       "          (attn): Attention2d(\n",
       "            (qkv): Conv2d(384, 1152, kernel_size=(1, 1), stride=(1, 1))\n",
       "            (rel_pos): RelPosBias()\n",
       "            (attn_drop): Dropout(p=0.0, inplace=False)\n",
       "            (proj): Conv2d(384, 384, kernel_size=(1, 1), stride=(1, 1))\n",
       "            (proj_drop): Dropout(p=0.0, inplace=False)\n",
       "          )\n",
       "          (ls1): Identity()\n",
       "          (drop_path1): Identity()\n",
       "          (norm2): LayerNorm2d((384,), eps=1e-06, elementwise_affine=True)\n",
       "          (mlp): ConvMlp(\n",
       "            (fc1): Conv2d(384, 1536, kernel_size=(1, 1), stride=(1, 1))\n",
       "            (norm): Identity()\n",
       "            (act): GELU()\n",
       "            (drop): Dropout(p=0.0, inplace=False)\n",
       "            (fc2): Conv2d(1536, 384, kernel_size=(1, 1), stride=(1, 1))\n",
       "          )\n",
       "          (ls2): Identity()\n",
       "          (drop_path2): Identity()\n",
       "        )\n",
       "        (13): TransformerBlock2d(\n",
       "          (shortcut): Identity()\n",
       "          (norm1): LayerNorm2d((384,), eps=1e-06, elementwise_affine=True)\n",
       "          (attn): Attention2d(\n",
       "            (qkv): Conv2d(384, 1152, kernel_size=(1, 1), stride=(1, 1))\n",
       "            (rel_pos): RelPosBias()\n",
       "            (attn_drop): Dropout(p=0.0, inplace=False)\n",
       "            (proj): Conv2d(384, 384, kernel_size=(1, 1), stride=(1, 1))\n",
       "            (proj_drop): Dropout(p=0.0, inplace=False)\n",
       "          )\n",
       "          (ls1): Identity()\n",
       "          (drop_path1): Identity()\n",
       "          (norm2): LayerNorm2d((384,), eps=1e-06, elementwise_affine=True)\n",
       "          (mlp): ConvMlp(\n",
       "            (fc1): Conv2d(384, 1536, kernel_size=(1, 1), stride=(1, 1))\n",
       "            (norm): Identity()\n",
       "            (act): GELU()\n",
       "            (drop): Dropout(p=0.0, inplace=False)\n",
       "            (fc2): Conv2d(1536, 384, kernel_size=(1, 1), stride=(1, 1))\n",
       "          )\n",
       "          (ls2): Identity()\n",
       "          (drop_path2): Identity()\n",
       "        )\n",
       "      )\n",
       "    )\n",
       "    (3): MaxxVitStage(\n",
       "      (blocks): Sequential(\n",
       "        (0): TransformerBlock2d(\n",
       "          (shortcut): Downsample2d(\n",
       "            (pool): AvgPool2d(kernel_size=2, stride=2, padding=0)\n",
       "            (expand): Conv2d(384, 768, kernel_size=(1, 1), stride=(1, 1), bias=False)\n",
       "          )\n",
       "          (norm1): Sequential(\n",
       "            (norm): LayerNorm2d((384,), eps=1e-06, elementwise_affine=True)\n",
       "            (down): Downsample2d(\n",
       "              (pool): AvgPool2d(kernel_size=2, stride=2, padding=0)\n",
       "              (expand): Identity()\n",
       "            )\n",
       "          )\n",
       "          (attn): Attention2d(\n",
       "            (qkv): Conv2d(384, 1152, kernel_size=(1, 1), stride=(1, 1))\n",
       "            (rel_pos): RelPosBias()\n",
       "            (attn_drop): Dropout(p=0.0, inplace=False)\n",
       "            (proj): Conv2d(384, 768, kernel_size=(1, 1), stride=(1, 1))\n",
       "            (proj_drop): Dropout(p=0.0, inplace=False)\n",
       "          )\n",
       "          (ls1): Identity()\n",
       "          (drop_path1): Identity()\n",
       "          (norm2): LayerNorm2d((768,), eps=1e-06, elementwise_affine=True)\n",
       "          (mlp): ConvMlp(\n",
       "            (fc1): Conv2d(768, 3072, kernel_size=(1, 1), stride=(1, 1))\n",
       "            (norm): Identity()\n",
       "            (act): GELU()\n",
       "            (drop): Dropout(p=0.0, inplace=False)\n",
       "            (fc2): Conv2d(3072, 768, kernel_size=(1, 1), stride=(1, 1))\n",
       "          )\n",
       "          (ls2): Identity()\n",
       "          (drop_path2): Identity()\n",
       "        )\n",
       "        (1): TransformerBlock2d(\n",
       "          (shortcut): Identity()\n",
       "          (norm1): LayerNorm2d((768,), eps=1e-06, elementwise_affine=True)\n",
       "          (attn): Attention2d(\n",
       "            (qkv): Conv2d(768, 2304, kernel_size=(1, 1), stride=(1, 1))\n",
       "            (rel_pos): RelPosBias()\n",
       "            (attn_drop): Dropout(p=0.0, inplace=False)\n",
       "            (proj): Conv2d(768, 768, kernel_size=(1, 1), stride=(1, 1))\n",
       "            (proj_drop): Dropout(p=0.0, inplace=False)\n",
       "          )\n",
       "          (ls1): Identity()\n",
       "          (drop_path1): Identity()\n",
       "          (norm2): LayerNorm2d((768,), eps=1e-06, elementwise_affine=True)\n",
       "          (mlp): ConvMlp(\n",
       "            (fc1): Conv2d(768, 3072, kernel_size=(1, 1), stride=(1, 1))\n",
       "            (norm): Identity()\n",
       "            (act): GELU()\n",
       "            (drop): Dropout(p=0.0, inplace=False)\n",
       "            (fc2): Conv2d(3072, 768, kernel_size=(1, 1), stride=(1, 1))\n",
       "          )\n",
       "          (ls2): Identity()\n",
       "          (drop_path2): Identity()\n",
       "        )\n",
       "      )\n",
       "    )\n",
       "  )\n",
       "  (norm): LayerNorm2d((768,), eps=1e-06, elementwise_affine=True)\n",
       "  (head): ClassifierHead(\n",
       "    (global_pool): SelectAdaptivePool2d(pool_type=avg, flatten=Flatten(start_dim=1, end_dim=-1))\n",
       "    (drop): Dropout(p=0.0, inplace=False)\n",
       "    (fc): Linear(in_features=768, out_features=257, bias=True)\n",
       "    (flatten): Identity()\n",
       "  )\n",
       ")"
      ]
     },
     "execution_count": 14,
     "metadata": {},
     "output_type": "execute_result"
    }
   ],
   "source": [
    "import torch\n",
    "import timm\n",
    "import torch.nn as nn\n",
    "\n",
    "# Setup device\n",
    "device = torch.device(\"cuda\" if torch.cuda.is_available() else \"cpu\")\n",
    "\n",
    "# Load pretrained model\n",
    "model1 = timm.create_model('coatnet_1_rw_224.sw_in1k', pretrained=True)\n",
    "\n",
    "# Get the number of input features of the classifier\n",
    "in_features = model1.get_classifier().in_features\n",
    "\n",
    "# Define the number of target classes\n",
    "num_classes = 257\n",
    "\n",
    "# Replace the classifier head\n",
    "model1.reset_classifier(num_classes=num_classes)\n",
    "\n",
    "# Freeze all layers\n",
    "for param in model1.parameters():\n",
    "    param.requires_grad = False\n",
    "\n",
    "# Unfreeze the classifier head\n",
    "for param in model1.get_classifier().parameters():\n",
    "    param.requires_grad = True\n",
    "\n",
    "# Move model to device\n",
    "model1.to(device)\n"
   ]
  },
  {
   "cell_type": "code",
   "execution_count": null,
   "metadata": {
    "colab": {
     "base_uri": "https://localhost:8080/"
    },
    "collapsed": true,
    "execution": {
     "iopub.execute_input": "2025-05-12T09:45:41.941788Z",
     "iopub.status.busy": "2025-05-12T09:45:41.941504Z",
     "iopub.status.idle": "2025-05-12T09:53:06.435889Z",
     "shell.execute_reply": "2025-05-12T09:53:06.434999Z",
     "shell.execute_reply.started": "2025-05-12T09:45:41.941768Z"
    },
    "id": "9UQ4sW1ie7J6",
    "jupyter": {
     "outputs_hidden": true
    },
    "outputId": "73139ac2-49b6-496c-a94b-ded396305b82",
    "trusted": true
   },
   "outputs": [
    {
     "name": "stderr",
     "output_type": "stream",
     "text": [
      "/tmp/ipykernel_31/2674499231.py:6: FutureWarning: `torch.cuda.amp.GradScaler(args...)` is deprecated. Please use `torch.amp.GradScaler('cuda', args...)` instead.\n",
      "  scaler = GradScaler()\n",
      "Epoch 1:   0%|          | 0/96 [00:00<?, ?it/s]/tmp/ipykernel_31/2674499231.py:22: FutureWarning: `torch.cuda.amp.autocast(args...)` is deprecated. Please use `torch.amp.autocast('cuda', args...)` instead.\n",
      "  with autocast():\n",
      "Epoch 1: 100%|██████████| 96/96 [03:42<00:00,  2.31s/it]\n"
     ]
    },
    {
     "name": "stdout",
     "output_type": "stream",
     "text": [
      "Epoch 1, Loss: 0.4086\n"
     ]
    },
    {
     "name": "stderr",
     "output_type": "stream",
     "text": [
      "Epoch 2: 100%|██████████| 96/96 [03:42<00:00,  2.31s/it]"
     ]
    },
    {
     "name": "stdout",
     "output_type": "stream",
     "text": [
      "Epoch 2, Loss: 0.3842\n"
     ]
    },
    {
     "name": "stderr",
     "output_type": "stream",
     "text": [
      "\n"
     ]
    }
   ],
   "source": [
    "import torch.optim as optim\n",
    "import torch.nn as nn\n",
    "from tqdm import tqdm  # Import tqdm for progress bar\n",
    "from torch.cuda.amp import autocast, GradScaler\n",
    "\n",
    "scaler = GradScaler()\n",
    "\n",
    "criterion = nn.CrossEntropyLoss()\n",
    "optimizer = optim.AdamW(model1.parameters(), lr=1e-4)\n",
    "\n",
    "for epoch in range(10):  # Adjust as needed\n",
    "    model1.train()\n",
    "    total_loss = 0\n",
    "\n",
    "    # Wrap the dataloader with tqdm for a progress bar\n",
    "    for images, labels in tqdm(train_dataloader, desc=f\"Epoch {epoch + 1}\"):\n",
    "        images, labels = images.to(device), labels.to(device)\n",
    "\n",
    "        optimizer.zero_grad()\n",
    "        outputs = model1(images)\n",
    "\n",
    "        with autocast():\n",
    "            outputs = model1(images)\n",
    "            loss = criterion(outputs, labels)\n",
    "\n",
    "        scaler.scale(loss).backward()\n",
    "        scaler.step(optimizer)\n",
    "        scaler.update()\n",
    "\n",
    "        total_loss += loss.item()\n",
    "\n",
    "\n",
    "\n",
    "    print(f\"Epoch {epoch+1}, Loss: {total_loss/len(train_dataloader):.4f}\")\n",
    "\n"
   ]
  },
  {
   "cell_type": "code",
   "execution_count": 1,
   "metadata": {
    "execution": {
     "iopub.execute_input": "2025-05-12T08:17:04.553347Z",
     "iopub.status.busy": "2025-05-12T08:17:04.553030Z",
     "iopub.status.idle": "2025-05-12T08:17:04.560342Z",
     "shell.execute_reply": "2025-05-12T08:17:04.559750Z",
     "shell.execute_reply.started": "2025-05-12T08:17:04.553324Z"
    },
    "trusted": true
   },
   "outputs": [
    {
     "name": "stdout",
     "output_type": "stream",
     "text": [
      "2\n"
     ]
    }
   ],
   "source": [
    "print(2)"
   ]
  },
  {
   "cell_type": "code",
   "execution_count": 28,
   "metadata": {
    "execution": {
     "iopub.execute_input": "2025-05-12T09:57:25.851205Z",
     "iopub.status.busy": "2025-05-12T09:57:25.850492Z",
     "iopub.status.idle": "2025-05-12T09:57:25.856550Z",
     "shell.execute_reply": "2025-05-12T09:57:25.855859Z",
     "shell.execute_reply.started": "2025-05-12T09:57:25.851177Z"
    },
    "trusted": true
   },
   "outputs": [
    {
     "data": {
      "text/plain": [
       "36.88244515657425"
      ]
     },
     "execution_count": 28,
     "metadata": {},
     "output_type": "execute_result"
    }
   ],
   "source": [
    "total_loss"
   ]
  },
  {
   "cell_type": "code",
   "execution_count": 29,
   "metadata": {
    "execution": {
     "iopub.execute_input": "2025-05-12T09:57:28.354730Z",
     "iopub.status.busy": "2025-05-12T09:57:28.353963Z",
     "iopub.status.idle": "2025-05-12T09:57:59.851133Z",
     "shell.execute_reply": "2025-05-12T09:57:59.850219Z",
     "shell.execute_reply.started": "2025-05-12T09:57:28.354703Z"
    },
    "trusted": true
   },
   "outputs": [
    {
     "name": "stderr",
     "output_type": "stream",
     "text": [
      "Evaluating: 100%|██████████| 24/24 [00:31<00:00,  1.31s/it]\n"
     ]
    }
   ],
   "source": [
    "from tqdm import tqdm\n",
    "import numpy as np\n",
    "import torch\n",
    "all_predictions = []\n",
    "all_labels = []\n",
    "\n",
    "with torch.no_grad():  # Disable gradient calculation during inference\n",
    "    for images, labels in tqdm(test_dataloader, desc=\"Evaluating\"):\n",
    "        images, labels = images.to(device), labels.to(device)\n",
    "        outputs = model1(images)\n",
    "        _, predicted = torch.max(outputs, 1)\n",
    "\n",
    "        all_predictions.extend(predicted.cpu().numpy())\n",
    "        all_labels.extend(labels.cpu().numpy())"
   ]
  },
  {
   "cell_type": "code",
   "execution_count": 30,
   "metadata": {
    "execution": {
     "iopub.execute_input": "2025-05-12T09:59:34.256139Z",
     "iopub.status.busy": "2025-05-12T09:59:34.255525Z",
     "iopub.status.idle": "2025-05-12T09:59:34.286920Z",
     "shell.execute_reply": "2025-05-12T09:59:34.286385Z",
     "shell.execute_reply.started": "2025-05-12T09:59:34.256109Z"
    },
    "trusted": true
   },
   "outputs": [],
   "source": [
    "from sklearn.metrics import precision_score, recall_score, f1_score, accuracy_score\n",
    "accuracy = accuracy_score(all_labels, all_predictions)\n",
    "precision = precision_score(all_labels, all_predictions, average='weighted')  # Use 'weighted' for multi-class\n",
    "recall = recall_score(all_labels, all_predictions, average='weighted')\n",
    "f1 = f1_score(all_labels, all_predictions, average='weighted')"
   ]
  },
  {
   "cell_type": "code",
   "execution_count": 31,
   "metadata": {
    "execution": {
     "iopub.execute_input": "2025-05-12T09:59:36.966854Z",
     "iopub.status.busy": "2025-05-12T09:59:36.966159Z",
     "iopub.status.idle": "2025-05-12T09:59:37.099617Z",
     "shell.execute_reply": "2025-05-12T09:59:37.098836Z",
     "shell.execute_reply.started": "2025-05-12T09:59:36.966827Z"
    },
    "trusted": true
   },
   "outputs": [
    {
     "name": "stdout",
     "output_type": "stream",
     "text": [
      "Top-1 Accuracy: 0.8623\n",
      "Precision: 0.8666\n",
      "Recall: 0.8623\n",
      "F1-score: 0.8605\n"
     ]
    },
    {
     "data": {
      "image/png": "[encoded data removed]",
      "text/plain": [
       "<Figure size 800x500 with 1 Axes>"
      ]
     },
     "metadata": {},
     "output_type": "display_data"
    }
   ],
   "source": [
    "from sklearn.metrics import precision_score, recall_score, f1_score, accuracy_score\n",
    "import matplotlib.pyplot as plt\n",
    "print(f\"Top-1 Accuracy: {accuracy:.4f}\")\n",
    "print(f\"Precision: {precision:.4f}\")\n",
    "print(f\"Recall: {recall:.4f}\")\n",
    "print(f\"F1-score: {f1:.4f}\")\n",
    "metrics = [accuracy, precision, recall, f1]\n",
    "#metrics = [0.85, 0.90, 0.78, 0.92]  # Example metrics (e.g., accuracy, precision, recall, F1)\n",
    "labels = ['Accuracy', 'Precision', 'Recall', 'F1 Score']\n",
    "\n",
    "# Plotting the bar chart\n",
    "plt.figure(figsize=(8, 5))\n",
    "bars = plt.bar(labels, metrics, color=['skyblue', 'orange', 'green', 'red'])\n",
    "\n",
    "# Adding text on top of each bar\n",
    "for bar in bars:\n",
    "    yval = bar.get_height()  # Get the height of each bar\n",
    "    plt.text(bar.get_x() + bar.get_width() / 2, yval + 0.01,  # Place text slightly above the bar\n",
    "             f'{yval:.4f}', ha='center', va='bottom', fontsize=12)\n",
    "\n",
    "plt.ylim(0, 1)  # Set y-axis limits for better spacing above the bars\n",
    "plt.ylabel('Score')\n",
    "plt.title('Classification Metrics')\n",
    "plt.show()"
   ]
  },
  {
   "cell_type": "code",
   "execution_count": 57,
   "metadata": {
    "collapsed": true,
    "execution": {
     "iopub.execute_input": "2025-05-12T05:38:58.895490Z",
     "iopub.status.busy": "2025-05-12T05:38:58.895301Z",
     "iopub.status.idle": "2025-05-12T05:39:01.107460Z",
     "shell.execute_reply": "2025-05-12T05:39:01.106770Z",
     "shell.execute_reply.started": "2025-05-12T05:38:58.895474Z"
    },
    "jupyter": {
     "outputs_hidden": true
    },
    "trusted": true
   },
   "outputs": [
    {
     "name": "stderr",
     "output_type": "stream",
     "text": [
      "/usr/local/lib/python3.11/dist-packages/timm/models/_factory.py:126: UserWarning: Mapping deprecated model name vit_base_patch16_224_in21k to current vit_base_patch16_224.augreg_in21k.\n",
      "  model = create_fn(\n"
     ]
    },
    {
     "data": {
      "text/plain": [
       "VisionTransformer(\n",
       "  (patch_embed): PatchEmbed(\n",
       "    (proj): Conv2d(3, 768, kernel_size=(16, 16), stride=(16, 16))\n",
       "    (norm): Identity()\n",
       "  )\n",
       "  (pos_drop): Dropout(p=0.0, inplace=False)\n",
       "  (patch_drop): Identity()\n",
       "  (norm_pre): Identity()\n",
       "  (blocks): Sequential(\n",
       "    (0): Block(\n",
       "      (norm1): LayerNorm((768,), eps=1e-06, elementwise_affine=True)\n",
       "      (attn): Attention(\n",
       "        (qkv): Linear(in_features=768, out_features=2304, bias=True)\n",
       "        (q_norm): Identity()\n",
       "        (k_norm): Identity()\n",
       "        (attn_drop): Dropout(p=0.0, inplace=False)\n",
       "        (proj): Linear(in_features=768, out_features=768, bias=True)\n",
       "        (proj_drop): Dropout(p=0.0, inplace=False)\n",
       "      )\n",
       "      (ls1): Identity()\n",
       "      (drop_path1): Identity()\n",
       "      (norm2): LayerNorm((768,), eps=1e-06, elementwise_affine=True)\n",
       "      (mlp): Mlp(\n",
       "        (fc1): Linear(in_features=768, out_features=3072, bias=True)\n",
       "        (act): GELU(approximate='none')\n",
       "        (drop1): Dropout(p=0.0, inplace=False)\n",
       "        (norm): Identity()\n",
       "        (fc2): Linear(in_features=3072, out_features=768, bias=True)\n",
       "        (drop2): Dropout(p=0.0, inplace=False)\n",
       "      )\n",
       "      (ls2): Identity()\n",
       "      (drop_path2): Identity()\n",
       "    )\n",
       "    (1): Block(\n",
       "      (norm1): LayerNorm((768,), eps=1e-06, elementwise_affine=True)\n",
       "      (attn): Attention(\n",
       "        (qkv): Linear(in_features=768, out_features=2304, bias=True)\n",
       "        (q_norm): Identity()\n",
       "        (k_norm): Identity()\n",
       "        (attn_drop): Dropout(p=0.0, inplace=False)\n",
       "        (proj): Linear(in_features=768, out_features=768, bias=True)\n",
       "        (proj_drop): Dropout(p=0.0, inplace=False)\n",
       "      )\n",
       "      (ls1): Identity()\n",
       "      (drop_path1): Identity()\n",
       "      (norm2): LayerNorm((768,), eps=1e-06, elementwise_affine=True)\n",
       "      (mlp): Mlp(\n",
       "        (fc1): Linear(in_features=768, out_features=3072, bias=True)\n",
       "        (act): GELU(approximate='none')\n",
       "        (drop1): Dropout(p=0.0, inplace=False)\n",
       "        (norm): Identity()\n",
       "        (fc2): Linear(in_features=3072, out_features=768, bias=True)\n",
       "        (drop2): Dropout(p=0.0, inplace=False)\n",
       "      )\n",
       "      (ls2): Identity()\n",
       "      (drop_path2): Identity()\n",
       "    )\n",
       "    (2): Block(\n",
       "      (norm1): LayerNorm((768,), eps=1e-06, elementwise_affine=True)\n",
       "      (attn): Attention(\n",
       "        (qkv): Linear(in_features=768, out_features=2304, bias=True)\n",
       "        (q_norm): Identity()\n",
       "        (k_norm): Identity()\n",
       "        (attn_drop): Dropout(p=0.0, inplace=False)\n",
       "        (proj): Linear(in_features=768, out_features=768, bias=True)\n",
       "        (proj_drop): Dropout(p=0.0, inplace=False)\n",
       "      )\n",
       "      (ls1): Identity()\n",
       "      (drop_path1): Identity()\n",
       "      (norm2): LayerNorm((768,), eps=1e-06, elementwise_affine=True)\n",
       "      (mlp): Mlp(\n",
       "        (fc1): Linear(in_features=768, out_features=3072, bias=True)\n",
       "        (act): GELU(approximate='none')\n",
       "        (drop1): Dropout(p=0.0, inplace=False)\n",
       "        (norm): Identity()\n",
       "        (fc2): Linear(in_features=3072, out_features=768, bias=True)\n",
       "        (drop2): Dropout(p=0.0, inplace=False)\n",
       "      )\n",
       "      (ls2): Identity()\n",
       "      (drop_path2): Identity()\n",
       "    )\n",
       "    (3): Block(\n",
       "      (norm1): LayerNorm((768,), eps=1e-06, elementwise_affine=True)\n",
       "      (attn): Attention(\n",
       "        (qkv): Linear(in_features=768, out_features=2304, bias=True)\n",
       "        (q_norm): Identity()\n",
       "        (k_norm): Identity()\n",
       "        (attn_drop): Dropout(p=0.0, inplace=False)\n",
       "        (proj): Linear(in_features=768, out_features=768, bias=True)\n",
       "        (proj_drop): Dropout(p=0.0, inplace=False)\n",
       "      )\n",
       "      (ls1): Identity()\n",
       "      (drop_path1): Identity()\n",
       "      (norm2): LayerNorm((768,), eps=1e-06, elementwise_affine=True)\n",
       "      (mlp): Mlp(\n",
       "        (fc1): Linear(in_features=768, out_features=3072, bias=True)\n",
       "        (act): GELU(approximate='none')\n",
       "        (drop1): Dropout(p=0.0, inplace=False)\n",
       "        (norm): Identity()\n",
       "        (fc2): Linear(in_features=3072, out_features=768, bias=True)\n",
       "        (drop2): Dropout(p=0.0, inplace=False)\n",
       "      )\n",
       "      (ls2): Identity()\n",
       "      (drop_path2): Identity()\n",
       "    )\n",
       "    (4): Block(\n",
       "      (norm1): LayerNorm((768,), eps=1e-06, elementwise_affine=True)\n",
       "      (attn): Attention(\n",
       "        (qkv): Linear(in_features=768, out_features=2304, bias=True)\n",
       "        (q_norm): Identity()\n",
       "        (k_norm): Identity()\n",
       "        (attn_drop): Dropout(p=0.0, inplace=False)\n",
       "        (proj): Linear(in_features=768, out_features=768, bias=True)\n",
       "        (proj_drop): Dropout(p=0.0, inplace=False)\n",
       "      )\n",
       "      (ls1): Identity()\n",
       "      (drop_path1): Identity()\n",
       "      (norm2): LayerNorm((768,), eps=1e-06, elementwise_affine=True)\n",
       "      (mlp): Mlp(\n",
       "        (fc1): Linear(in_features=768, out_features=3072, bias=True)\n",
       "        (act): GELU(approximate='none')\n",
       "        (drop1): Dropout(p=0.0, inplace=False)\n",
       "        (norm): Identity()\n",
       "        (fc2): Linear(in_features=3072, out_features=768, bias=True)\n",
       "        (drop2): Dropout(p=0.0, inplace=False)\n",
       "      )\n",
       "      (ls2): Identity()\n",
       "      (drop_path2): Identity()\n",
       "    )\n",
       "    (5): Block(\n",
       "      (norm1): LayerNorm((768,), eps=1e-06, elementwise_affine=True)\n",
       "      (attn): Attention(\n",
       "        (qkv): Linear(in_features=768, out_features=2304, bias=True)\n",
       "        (q_norm): Identity()\n",
       "        (k_norm): Identity()\n",
       "        (attn_drop): Dropout(p=0.0, inplace=False)\n",
       "        (proj): Linear(in_features=768, out_features=768, bias=True)\n",
       "        (proj_drop): Dropout(p=0.0, inplace=False)\n",
       "      )\n",
       "      (ls1): Identity()\n",
       "      (drop_path1): Identity()\n",
       "      (norm2): LayerNorm((768,), eps=1e-06, elementwise_affine=True)\n",
       "      (mlp): Mlp(\n",
       "        (fc1): Linear(in_features=768, out_features=3072, bias=True)\n",
       "        (act): GELU(approximate='none')\n",
       "        (drop1): Dropout(p=0.0, inplace=False)\n",
       "        (norm): Identity()\n",
       "        (fc2): Linear(in_features=3072, out_features=768, bias=True)\n",
       "        (drop2): Dropout(p=0.0, inplace=False)\n",
       "      )\n",
       "      (ls2): Identity()\n",
       "      (drop_path2): Identity()\n",
       "    )\n",
       "    (6): Block(\n",
       "      (norm1): LayerNorm((768,), eps=1e-06, elementwise_affine=True)\n",
       "      (attn): Attention(\n",
       "        (qkv): Linear(in_features=768, out_features=2304, bias=True)\n",
       "        (q_norm): Identity()\n",
       "        (k_norm): Identity()\n",
       "        (attn_drop): Dropout(p=0.0, inplace=False)\n",
       "        (proj): Linear(in_features=768, out_features=768, bias=True)\n",
       "        (proj_drop): Dropout(p=0.0, inplace=False)\n",
       "      )\n",
       "      (ls1): Identity()\n",
       "      (drop_path1): Identity()\n",
       "      (norm2): LayerNorm((768,), eps=1e-06, elementwise_affine=True)\n",
       "      (mlp): Mlp(\n",
       "        (fc1): Linear(in_features=768, out_features=3072, bias=True)\n",
       "        (act): GELU(approximate='none')\n",
       "        (drop1): Dropout(p=0.0, inplace=False)\n",
       "        (norm): Identity()\n",
       "        (fc2): Linear(in_features=3072, out_features=768, bias=True)\n",
       "        (drop2): Dropout(p=0.0, inplace=False)\n",
       "      )\n",
       "      (ls2): Identity()\n",
       "      (drop_path2): Identity()\n",
       "    )\n",
       "    (7): Block(\n",
       "      (norm1): LayerNorm((768,), eps=1e-06, elementwise_affine=True)\n",
       "      (attn): Attention(\n",
       "        (qkv): Linear(in_features=768, out_features=2304, bias=True)\n",
       "        (q_norm): Identity()\n",
       "        (k_norm): Identity()\n",
       "        (attn_drop): Dropout(p=0.0, inplace=False)\n",
       "        (proj): Linear(in_features=768, out_features=768, bias=True)\n",
       "        (proj_drop): Dropout(p=0.0, inplace=False)\n",
       "      )\n",
       "      (ls1): Identity()\n",
       "      (drop_path1): Identity()\n",
       "      (norm2): LayerNorm((768,), eps=1e-06, elementwise_affine=True)\n",
       "      (mlp): Mlp(\n",
       "        (fc1): Linear(in_features=768, out_features=3072, bias=True)\n",
       "        (act): GELU(approximate='none')\n",
       "        (drop1): Dropout(p=0.0, inplace=False)\n",
       "        (norm): Identity()\n",
       "        (fc2): Linear(in_features=3072, out_features=768, bias=True)\n",
       "        (drop2): Dropout(p=0.0, inplace=False)\n",
       "      )\n",
       "      (ls2): Identity()\n",
       "      (drop_path2): Identity()\n",
       "    )\n",
       "    (8): Block(\n",
       "      (norm1): LayerNorm((768,), eps=1e-06, elementwise_affine=True)\n",
       "      (attn): Attention(\n",
       "        (qkv): Linear(in_features=768, out_features=2304, bias=True)\n",
       "        (q_norm): Identity()\n",
       "        (k_norm): Identity()\n",
       "        (attn_drop): Dropout(p=0.0, inplace=False)\n",
       "        (proj): Linear(in_features=768, out_features=768, bias=True)\n",
       "        (proj_drop): Dropout(p=0.0, inplace=False)\n",
       "      )\n",
       "      (ls1): Identity()\n",
       "      (drop_path1): Identity()\n",
       "      (norm2): LayerNorm((768,), eps=1e-06, elementwise_affine=True)\n",
       "      (mlp): Mlp(\n",
       "        (fc1): Linear(in_features=768, out_features=3072, bias=True)\n",
       "        (act): GELU(approximate='none')\n",
       "        (drop1): Dropout(p=0.0, inplace=False)\n",
       "        (norm): Identity()\n",
       "        (fc2): Linear(in_features=3072, out_features=768, bias=True)\n",
       "        (drop2): Dropout(p=0.0, inplace=False)\n",
       "      )\n",
       "      (ls2): Identity()\n",
       "      (drop_path2): Identity()\n",
       "    )\n",
       "    (9): Block(\n",
       "      (norm1): LayerNorm((768,), eps=1e-06, elementwise_affine=True)\n",
       "      (attn): Attention(\n",
       "        (qkv): Linear(in_features=768, out_features=2304, bias=True)\n",
       "        (q_norm): Identity()\n",
       "        (k_norm): Identity()\n",
       "        (attn_drop): Dropout(p=0.0, inplace=False)\n",
       "        (proj): Linear(in_features=768, out_features=768, bias=True)\n",
       "        (proj_drop): Dropout(p=0.0, inplace=False)\n",
       "      )\n",
       "      (ls1): Identity()\n",
       "      (drop_path1): Identity()\n",
       "      (norm2): LayerNorm((768,), eps=1e-06, elementwise_affine=True)\n",
       "      (mlp): Mlp(\n",
       "        (fc1): Linear(in_features=768, out_features=3072, bias=True)\n",
       "        (act): GELU(approximate='none')\n",
       "        (drop1): Dropout(p=0.0, inplace=False)\n",
       "        (norm): Identity()\n",
       "        (fc2): Linear(in_features=3072, out_features=768, bias=True)\n",
       "        (drop2): Dropout(p=0.0, inplace=False)\n",
       "      )\n",
       "      (ls2): Identity()\n",
       "      (drop_path2): Identity()\n",
       "    )\n",
       "    (10): Block(\n",
       "      (norm1): LayerNorm((768,), eps=1e-06, elementwise_affine=True)\n",
       "      (attn): Attention(\n",
       "        (qkv): Linear(in_features=768, out_features=2304, bias=True)\n",
       "        (q_norm): Identity()\n",
       "        (k_norm): Identity()\n",
       "        (attn_drop): Dropout(p=0.0, inplace=False)\n",
       "        (proj): Linear(in_features=768, out_features=768, bias=True)\n",
       "        (proj_drop): Dropout(p=0.0, inplace=False)\n",
       "      )\n",
       "      (ls1): Identity()\n",
       "      (drop_path1): Identity()\n",
       "      (norm2): LayerNorm((768,), eps=1e-06, elementwise_affine=True)\n",
       "      (mlp): Mlp(\n",
       "        (fc1): Linear(in_features=768, out_features=3072, bias=True)\n",
       "        (act): GELU(approximate='none')\n",
       "        (drop1): Dropout(p=0.0, inplace=False)\n",
       "        (norm): Identity()\n",
       "        (fc2): Linear(in_features=3072, out_features=768, bias=True)\n",
       "        (drop2): Dropout(p=0.0, inplace=False)\n",
       "      )\n",
       "      (ls2): Identity()\n",
       "      (drop_path2): Identity()\n",
       "    )\n",
       "    (11): Block(\n",
       "      (norm1): LayerNorm((768,), eps=1e-06, elementwise_affine=True)\n",
       "      (attn): Attention(\n",
       "        (qkv): Linear(in_features=768, out_features=2304, bias=True)\n",
       "        (q_norm): Identity()\n",
       "        (k_norm): Identity()\n",
       "        (attn_drop): Dropout(p=0.0, inplace=False)\n",
       "        (proj): Linear(in_features=768, out_features=768, bias=True)\n",
       "        (proj_drop): Dropout(p=0.0, inplace=False)\n",
       "      )\n",
       "      (ls1): Identity()\n",
       "      (drop_path1): Identity()\n",
       "      (norm2): LayerNorm((768,), eps=1e-06, elementwise_affine=True)\n",
       "      (mlp): Mlp(\n",
       "        (fc1): Linear(in_features=768, out_features=3072, bias=True)\n",
       "        (act): GELU(approximate='none')\n",
       "        (drop1): Dropout(p=0.0, inplace=False)\n",
       "        (norm): Identity()\n",
       "        (fc2): Linear(in_features=3072, out_features=768, bias=True)\n",
       "        (drop2): Dropout(p=0.0, inplace=False)\n",
       "      )\n",
       "      (ls2): Identity()\n",
       "      (drop_path2): Identity()\n",
       "    )\n",
       "  )\n",
       "  (norm): LayerNorm((768,), eps=1e-06, elementwise_affine=True)\n",
       "  (fc_norm): Identity()\n",
       "  (head_drop): Dropout(p=0.0, inplace=False)\n",
       "  (head): Linear(in_features=768, out_features=257, bias=True)\n",
       ")"
      ]
     },
     "execution_count": 57,
     "metadata": {},
     "output_type": "execute_result"
    }
   ],
   "source": [
    "import timm\n",
    "import torch.nn as nn\n",
    "\n",
    "model2 = timm.create_model('vit_base_patch16_224_in21k', pretrained=True)\n",
    "\n",
    "model2.head = nn.Linear(model2.head.in_features, 257)\n",
    "for param in model2.parameters():\n",
    "    param.requires_grad = False\n",
    "\n",
    "# Unfreeze the head (final classification layer)\n",
    "for param in model2.head.parameters():\n",
    "    param.requires_grad = True\n",
    "model2.to(device)\n"
   ]
  },
  {
   "cell_type": "code",
   "execution_count": 58,
   "metadata": {
    "execution": {
     "iopub.execute_input": "2025-05-12T05:39:01.108593Z",
     "iopub.status.busy": "2025-05-12T05:39:01.108337Z",
     "iopub.status.idle": "2025-05-12T05:39:01.114053Z",
     "shell.execute_reply": "2025-05-12T05:39:01.113265Z",
     "shell.execute_reply.started": "2025-05-12T05:39:01.108576Z"
    },
    "trusted": true
   },
   "outputs": [],
   "source": [
    "new_transforms = Compose([\n",
    "    #RandomResizedCrop(size=(224, 224), antialias=True),\n",
    "    #RandomHorizontalFlip(p=0.5),\n",
    "    Resize((224, 224)),\n",
    "    ToTensor(), #Adding ToTensor to the Compose\n",
    "    Normalize(mean=[0.5524, 0.5334, 0.5045], std=[0.5524, 0.5334, 0.5045]),\n",
    "])\n",
    "\n",
    "\n",
    "train_dataset = SubsetWithTransform(train_dataset1, transform=new_transforms)\n",
    "test_dataset=SubsetWithTransform(test_dataset1,transform=new_transforms)\n",
    "train_dataloader=DataLoader(train_dataset, batch_size=256, shuffle=True,num_workers=4)\n",
    "test_dataloader=DataLoader(test_dataset,batch_size=256,shuffle=True,num_workers=4)"
   ]
  },
  {
   "cell_type": "code",
   "execution_count": 59,
   "metadata": {
    "collapsed": true,
    "execution": {
     "iopub.execute_input": "2025-05-12T05:39:01.116370Z",
     "iopub.status.busy": "2025-05-12T05:39:01.116192Z",
     "iopub.status.idle": "2025-05-12T06:26:30.548266Z",
     "shell.execute_reply": "2025-05-12T06:26:30.547430Z",
     "shell.execute_reply.started": "2025-05-12T05:39:01.116356Z"
    },
    "jupyter": {
     "outputs_hidden": true
    },
    "trusted": true
   },
   "outputs": [
    {
     "name": "stderr",
     "output_type": "stream",
     "text": [
      "/tmp/ipykernel_31/886744350.py:6: FutureWarning: `torch.cuda.amp.GradScaler(args...)` is deprecated. Please use `torch.amp.GradScaler('cuda', args...)` instead.\n",
      "  scaler = GradScaler()\n",
      "Epoch 1:   0%|          | 0/96 [00:00<?, ?it/s]/tmp/ipykernel_31/886744350.py:22: FutureWarning: `torch.cuda.amp.autocast(args...)` is deprecated. Please use `torch.amp.autocast('cuda', args...)` instead.\n",
      "  with autocast():\n",
      "Epoch 1: 100%|██████████| 96/96 [04:44<00:00,  2.96s/it]\n"
     ]
    },
    {
     "name": "stdout",
     "output_type": "stream",
     "text": [
      "Epoch 1, Loss: 4.6983\n"
     ]
    },
    {
     "name": "stderr",
     "output_type": "stream",
     "text": [
      "Epoch 2: 100%|██████████| 96/96 [04:44<00:00,  2.96s/it]\n"
     ]
    },
    {
     "name": "stdout",
     "output_type": "stream",
     "text": [
      "Epoch 2, Loss: 1.7997\n"
     ]
    },
    {
     "name": "stderr",
     "output_type": "stream",
     "text": [
      "Epoch 3: 100%|██████████| 96/96 [04:44<00:00,  2.96s/it]\n"
     ]
    },
    {
     "name": "stdout",
     "output_type": "stream",
     "text": [
      "Epoch 3, Loss: 0.8394\n"
     ]
    },
    {
     "name": "stderr",
     "output_type": "stream",
     "text": [
      "Epoch 4: 100%|██████████| 96/96 [04:44<00:00,  2.96s/it]\n"
     ]
    },
    {
     "name": "stdout",
     "output_type": "stream",
     "text": [
      "Epoch 4, Loss: 0.5253\n"
     ]
    },
    {
     "name": "stderr",
     "output_type": "stream",
     "text": [
      "Epoch 5: 100%|██████████| 96/96 [04:44<00:00,  2.96s/it]\n"
     ]
    },
    {
     "name": "stdout",
     "output_type": "stream",
     "text": [
      "Epoch 5, Loss: 0.3793\n"
     ]
    },
    {
     "name": "stderr",
     "output_type": "stream",
     "text": [
      "Epoch 6: 100%|██████████| 96/96 [04:45<00:00,  2.97s/it]\n"
     ]
    },
    {
     "name": "stdout",
     "output_type": "stream",
     "text": [
      "Epoch 6, Loss: 0.2925\n"
     ]
    },
    {
     "name": "stderr",
     "output_type": "stream",
     "text": [
      "Epoch 7: 100%|██████████| 96/96 [04:49<00:00,  3.01s/it]\n"
     ]
    },
    {
     "name": "stdout",
     "output_type": "stream",
     "text": [
      "Epoch 7, Loss: 0.2338\n"
     ]
    },
    {
     "name": "stderr",
     "output_type": "stream",
     "text": [
      "Epoch 8: 100%|██████████| 96/96 [04:44<00:00,  2.96s/it]\n"
     ]
    },
    {
     "name": "stdout",
     "output_type": "stream",
     "text": [
      "Epoch 8, Loss: 0.1909\n"
     ]
    },
    {
     "name": "stderr",
     "output_type": "stream",
     "text": [
      "Epoch 9: 100%|██████████| 96/96 [04:44<00:00,  2.96s/it]\n"
     ]
    },
    {
     "name": "stdout",
     "output_type": "stream",
     "text": [
      "Epoch 9, Loss: 0.1584\n"
     ]
    },
    {
     "name": "stderr",
     "output_type": "stream",
     "text": [
      "Epoch 10: 100%|██████████| 96/96 [04:44<00:00,  2.96s/it]"
     ]
    },
    {
     "name": "stdout",
     "output_type": "stream",
     "text": [
      "Epoch 10, Loss: 0.1319\n"
     ]
    },
    {
     "name": "stderr",
     "output_type": "stream",
     "text": [
      "\n"
     ]
    }
   ],
   "source": [
    "import torch.optim as optim\n",
    "import torch.nn as nn\n",
    "from tqdm import tqdm  # Import tqdm for progress bar\n",
    "from torch.cuda.amp import autocast, GradScaler\n",
    "\n",
    "scaler = GradScaler()\n",
    "\n",
    "criterion = nn.CrossEntropyLoss()\n",
    "optimizer = optim.AdamW(model2.parameters(), lr=1e-4)\n",
    "\n",
    "for epoch in range(10):  # Adjust as needed\n",
    "    model2.train()\n",
    "    total_loss = 0\n",
    "\n",
    "    # Wrap the dataloader with tqdm for a progress bar\n",
    "    for images, labels in tqdm(train_dataloader, desc=f\"Epoch {epoch + 1}\"):\n",
    "        images, labels = images.to(device), labels.to(device)\n",
    "\n",
    "        optimizer.zero_grad()\n",
    "        outputs = model2(images)\n",
    "\n",
    "        with autocast():\n",
    "            outputs = model2(images)\n",
    "            loss = criterion(outputs, labels)\n",
    "\n",
    "        scaler.scale(loss).backward()\n",
    "        scaler.step(optimizer)\n",
    "        scaler.update()\n",
    "\n",
    "        total_loss += loss.item()\n",
    "\n",
    "\n",
    "\n",
    "    print(f\"Epoch {epoch+1}, Loss: {total_loss/len(train_dataloader):.4f}\")\n",
    "\n"
   ]
  },
  {
   "cell_type": "code",
   "execution_count": 60,
   "metadata": {
    "execution": {
     "iopub.execute_input": "2025-05-12T06:26:30.549771Z",
     "iopub.status.busy": "2025-05-12T06:26:30.549451Z",
     "iopub.status.idle": "2025-05-12T06:27:10.482736Z",
     "shell.execute_reply": "2025-05-12T06:27:10.482004Z",
     "shell.execute_reply.started": "2025-05-12T06:26:30.549745Z"
    },
    "trusted": true
   },
   "outputs": [
    {
     "name": "stderr",
     "output_type": "stream",
     "text": [
      "Evaluating: 100%|██████████| 24/24 [00:39<00:00,  1.66s/it]\n"
     ]
    }
   ],
   "source": [
    "from tqdm import tqdm\n",
    "import numpy as np\n",
    "import torch\n",
    "all_predictions = []\n",
    "all_labels = []\n",
    "\n",
    "with torch.no_grad():  # Disable gradient calculation during inference\n",
    "    for images, labels in tqdm(test_dataloader, desc=\"Evaluating\"):\n",
    "        images, labels = images.to(device), labels.to(device)\n",
    "        outputs = model2(images)\n",
    "        _, predicted = torch.max(outputs, 1)\n",
    "\n",
    "        all_predictions.extend(predicted.cpu().numpy())\n",
    "        all_labels.extend(labels.cpu().numpy())"
   ]
  },
  {
   "cell_type": "code",
   "execution_count": 61,
   "metadata": {
    "execution": {
     "iopub.execute_input": "2025-05-12T06:27:10.483893Z",
     "iopub.status.busy": "2025-05-12T06:27:10.483677Z",
     "iopub.status.idle": "2025-05-12T06:27:10.515743Z",
     "shell.execute_reply": "2025-05-12T06:27:10.515249Z",
     "shell.execute_reply.started": "2025-05-12T06:27:10.483873Z"
    },
    "trusted": true
   },
   "outputs": [],
   "source": [
    "accuracy = accuracy_score(all_labels, all_predictions)\n",
    "precision = precision_score(all_labels, all_predictions, average='weighted')  # Use 'weighted' for multi-class\n",
    "recall = recall_score(all_labels, all_predictions, average='weighted')\n",
    "f1 = f1_score(all_labels, all_predictions, average='weighted')"
   ]
  },
  {
   "cell_type": "code",
   "execution_count": 62,
   "metadata": {
    "execution": {
     "iopub.execute_input": "2025-05-12T06:27:10.517183Z",
     "iopub.status.busy": "2025-05-12T06:27:10.516406Z",
     "iopub.status.idle": "2025-05-12T06:27:10.521450Z",
     "shell.execute_reply": "2025-05-12T06:27:10.520779Z",
     "shell.execute_reply.started": "2025-05-12T06:27:10.517160Z"
    },
    "trusted": true
   },
   "outputs": [
    {
     "name": "stdout",
     "output_type": "stream",
     "text": [
      "Top-1 Accuracy: 0.9356\n",
      "Precision: 0.9395\n",
      "Recall: 0.9356\n",
      "F1-score: 0.9359\n"
     ]
    }
   ],
   "source": [
    "print(f\"Top-1 Accuracy: {accuracy:.4f}\")\n",
    "print(f\"Precision: {precision:.4f}\")\n",
    "print(f\"Recall: {recall:.4f}\")\n",
    "print(f\"F1-score: {f1:.4f}\")"
   ]
  },
  {
   "cell_type": "code",
   "execution_count": 63,
   "metadata": {
    "execution": {
     "iopub.execute_input": "2025-05-12T06:27:10.522475Z",
     "iopub.status.busy": "2025-05-12T06:27:10.522253Z",
     "iopub.status.idle": "2025-05-12T06:27:10.665622Z",
     "shell.execute_reply": "2025-05-12T06:27:10.664786Z",
     "shell.execute_reply.started": "2025-05-12T06:27:10.522451Z"
    },
    "trusted": true
   },
   "outputs": [
    {
     "name": "stdout",
     "output_type": "stream",
     "text": [
      "Top-1 Accuracy: 0.9356\n",
      "Precision: 0.9395\n",
      "Recall: 0.9356\n",
      "F1-score: 0.9359\n"
     ]
    },
    {
     "data": {
      "image/png": "[encoded data removed]",
      "text/plain": [
       "<Figure size 800x500 with 1 Axes>"
      ]
     },
     "metadata": {},
     "output_type": "display_data"
    }
   ],
   "source": [
    "from sklearn.metrics import precision_score, recall_score, f1_score, accuracy_score\n",
    "import matplotlib.pyplot as plt\n",
    "print(f\"Top-1 Accuracy: {accuracy:.4f}\")\n",
    "print(f\"Precision: {precision:.4f}\")\n",
    "print(f\"Recall: {recall:.4f}\")\n",
    "print(f\"F1-score: {f1:.4f}\")\n",
    "metrics = [accuracy, precision, recall, f1]\n",
    "#metrics = [0.85, 0.90, 0.78, 0.92]  # Example metrics (e.g., accuracy, precision, recall, F1)\n",
    "labels = ['Accuracy', 'Precision', 'Recall', 'F1 Score']\n",
    "\n",
    "# Plotting the bar chart\n",
    "plt.figure(figsize=(8, 5))\n",
    "bars = plt.bar(labels, metrics, color=['skyblue', 'orange', 'green', 'red'])\n",
    "\n",
    "# Adding text on top of each bar\n",
    "for bar in bars:\n",
    "    yval = bar.get_height()  # Get the height of each bar\n",
    "    plt.text(bar.get_x() + bar.get_width() / 2, yval + 0.01,  # Place text slightly above the bar\n",
    "             f'{yval:.4f}', ha='center', va='bottom', fontsize=12)\n",
    "\n",
    "plt.ylim(0, 1)  # Set y-axis limits for better spacing above the bars\n",
    "plt.ylabel('Score')\n",
    "plt.title('Classification Metrics')\n",
    "plt.show()"
   ]
  },
  {
   "cell_type": "code",
   "execution_count": 8,
   "metadata": {
    "collapsed": true,
    "execution": {
     "iopub.execute_input": "2025-05-12T18:36:57.093202Z",
     "iopub.status.busy": "2025-05-12T18:36:57.092917Z",
     "iopub.status.idle": "2025-05-12T18:36:58.043724Z",
     "shell.execute_reply": "2025-05-12T18:36:58.043014Z",
     "shell.execute_reply.started": "2025-05-12T18:36:57.093179Z"
    },
    "jupyter": {
     "outputs_hidden": true
    },
    "trusted": true
   },
   "outputs": [
    {
     "data": {
      "text/plain": [
       "AlexNet(\n",
       "  (features): Sequential(\n",
       "    (0): Conv2d(3, 64, kernel_size=(11, 11), stride=(4, 4), padding=(2, 2))\n",
       "    (1): ReLU(inplace=True)\n",
       "    (2): MaxPool2d(kernel_size=3, stride=2, padding=0, dilation=1, ceil_mode=False)\n",
       "    (3): Conv2d(64, 192, kernel_size=(5, 5), stride=(1, 1), padding=(2, 2))\n",
       "    (4): ReLU(inplace=True)\n",
       "    (5): MaxPool2d(kernel_size=3, stride=2, padding=0, dilation=1, ceil_mode=False)\n",
       "    (6): Conv2d(192, 384, kernel_size=(3, 3), stride=(1, 1), padding=(1, 1))\n",
       "    (7): ReLU(inplace=True)\n",
       "    (8): Conv2d(384, 256, kernel_size=(3, 3), stride=(1, 1), padding=(1, 1))\n",
       "    (9): ReLU(inplace=True)\n",
       "    (10): Conv2d(256, 256, kernel_size=(3, 3), stride=(1, 1), padding=(1, 1))\n",
       "    (11): ReLU(inplace=True)\n",
       "    (12): MaxPool2d(kernel_size=3, stride=2, padding=0, dilation=1, ceil_mode=False)\n",
       "  )\n",
       "  (avgpool): AdaptiveAvgPool2d(output_size=(6, 6))\n",
       "  (classifier): Sequential(\n",
       "    (0): Dropout(p=0.5, inplace=False)\n",
       "    (1): Linear(in_features=9216, out_features=4096, bias=True)\n",
       "    (2): ReLU(inplace=True)\n",
       "    (3): Dropout(p=0.5, inplace=False)\n",
       "    (4): Linear(in_features=4096, out_features=4096, bias=True)\n",
       "    (5): ReLU(inplace=True)\n",
       "    (6): Linear(in_features=4096, out_features=257, bias=True)\n",
       "  )\n",
       ")"
      ]
     },
     "execution_count": 8,
     "metadata": {},
     "output_type": "execute_result"
    }
   ],
   "source": [
    "import torchvision.models as models\n",
    "import torch.nn as nn\n",
    "\n",
    "# Load pretrained AlexNet from torchvision\n",
    "model5 = models.alexnet(pretrained=True)\n",
    "\n",
    "# Freeze all parameters\n",
    "for param in model5.parameters():\n",
    "    param.requires_grad = True\n",
    "\n",
    "# Replace the classifier with a single linear layer (e.g., for 10 classes)\n",
    "in_features = model5.classifier[6].in_features\n",
    "model5.classifier[6] = nn.Linear(in_features, 257)\n",
    "\n",
    "# Unfreeze the classifier layer only\n",
    "for param in model5.classifier[6].parameters():\n",
    "    param.requires_grad = True\n",
    "model5.to(device)"
   ]
  },
  {
   "cell_type": "code",
   "execution_count": 10,
   "metadata": {
    "execution": {
     "iopub.execute_input": "2025-05-12T18:37:42.408308Z",
     "iopub.status.busy": "2025-05-12T18:37:42.408006Z",
     "iopub.status.idle": "2025-05-12T18:52:45.114240Z",
     "shell.execute_reply": "2025-05-12T18:52:45.113316Z",
     "shell.execute_reply.started": "2025-05-12T18:37:42.408284Z"
    },
    "trusted": true
   },
   "outputs": [
    {
     "name": "stderr",
     "output_type": "stream",
     "text": [
      "/tmp/ipykernel_31/3897586823.py:6: FutureWarning: `torch.cuda.amp.GradScaler(args...)` is deprecated. Please use `torch.amp.GradScaler('cuda', args...)` instead.\n",
      "  scaler = GradScaler()\n",
      "Epoch 1:   0%|          | 0/96 [00:00<?, ?it/s]/tmp/ipykernel_31/3897586823.py:20: FutureWarning: `torch.cuda.amp.autocast(args...)` is deprecated. Please use `torch.amp.autocast('cuda', args...)` instead.\n",
      "  with autocast():  # Mixed precision context\n",
      "Epoch 1: 100%|██████████| 96/96 [01:27<00:00,  1.09it/s]\n"
     ]
    },
    {
     "name": "stdout",
     "output_type": "stream",
     "text": [
      "Epoch 1, Loss: 2.7546\n"
     ]
    },
    {
     "name": "stderr",
     "output_type": "stream",
     "text": [
      "Epoch 2: 100%|██████████| 96/96 [00:49<00:00,  1.95it/s]\n"
     ]
    },
    {
     "name": "stdout",
     "output_type": "stream",
     "text": [
      "Epoch 2, Loss: 1.2549\n"
     ]
    },
    {
     "name": "stderr",
     "output_type": "stream",
     "text": [
      "Epoch 3: 100%|██████████| 96/96 [00:48<00:00,  1.98it/s]\n"
     ]
    },
    {
     "name": "stdout",
     "output_type": "stream",
     "text": [
      "Epoch 3, Loss: 0.8024\n"
     ]
    },
    {
     "name": "stderr",
     "output_type": "stream",
     "text": [
      "Epoch 4: 100%|██████████| 96/96 [00:48<00:00,  1.99it/s]\n"
     ]
    },
    {
     "name": "stdout",
     "output_type": "stream",
     "text": [
      "Epoch 4, Loss: 0.5053\n"
     ]
    },
    {
     "name": "stderr",
     "output_type": "stream",
     "text": [
      "Epoch 5: 100%|██████████| 96/96 [00:47<00:00,  2.01it/s]\n"
     ]
    },
    {
     "name": "stdout",
     "output_type": "stream",
     "text": [
      "Epoch 5, Loss: 0.3080\n"
     ]
    },
    {
     "name": "stderr",
     "output_type": "stream",
     "text": [
      "Epoch 6: 100%|██████████| 96/96 [00:48<00:00,  1.98it/s]\n"
     ]
    },
    {
     "name": "stdout",
     "output_type": "stream",
     "text": [
      "Epoch 6, Loss: 0.2067\n"
     ]
    },
    {
     "name": "stderr",
     "output_type": "stream",
     "text": [
      "Epoch 7: 100%|██████████| 96/96 [00:49<00:00,  1.96it/s]\n"
     ]
    },
    {
     "name": "stdout",
     "output_type": "stream",
     "text": [
      "Epoch 7, Loss: 0.1396\n"
     ]
    },
    {
     "name": "stderr",
     "output_type": "stream",
     "text": [
      "Epoch 8: 100%|██████████| 96/96 [00:48<00:00,  1.99it/s]\n"
     ]
    },
    {
     "name": "stdout",
     "output_type": "stream",
     "text": [
      "Epoch 8, Loss: 0.1161\n"
     ]
    },
    {
     "name": "stderr",
     "output_type": "stream",
     "text": [
      "Epoch 9: 100%|██████████| 96/96 [00:48<00:00,  1.99it/s]\n"
     ]
    },
    {
     "name": "stdout",
     "output_type": "stream",
     "text": [
      "Epoch 9, Loss: 0.0943\n"
     ]
    },
    {
     "name": "stderr",
     "output_type": "stream",
     "text": [
      "Epoch 10: 100%|██████████| 96/96 [00:48<00:00,  2.00it/s]\n"
     ]
    },
    {
     "name": "stdout",
     "output_type": "stream",
     "text": [
      "Epoch 10, Loss: 0.0741\n"
     ]
    },
    {
     "name": "stderr",
     "output_type": "stream",
     "text": [
      "Epoch 11: 100%|██████████| 96/96 [00:47<00:00,  2.01it/s]\n"
     ]
    },
    {
     "name": "stdout",
     "output_type": "stream",
     "text": [
      "Epoch 11, Loss: 0.0638\n"
     ]
    },
    {
     "name": "stderr",
     "output_type": "stream",
     "text": [
      "Epoch 12: 100%|██████████| 96/96 [01:38<00:00,  1.03s/it]\n"
     ]
    },
    {
     "name": "stdout",
     "output_type": "stream",
     "text": [
      "Epoch 12, Loss: 0.0618\n"
     ]
    },
    {
     "name": "stderr",
     "output_type": "stream",
     "text": [
      "Epoch 13: 100%|██████████| 96/96 [02:13<00:00,  1.39s/it]\n"
     ]
    },
    {
     "name": "stdout",
     "output_type": "stream",
     "text": [
      "Epoch 13, Loss: 0.0550\n"
     ]
    },
    {
     "name": "stderr",
     "output_type": "stream",
     "text": [
      "Epoch 14: 100%|██████████| 96/96 [00:49<00:00,  1.95it/s]\n"
     ]
    },
    {
     "name": "stdout",
     "output_type": "stream",
     "text": [
      "Epoch 14, Loss: 0.0496\n"
     ]
    },
    {
     "name": "stderr",
     "output_type": "stream",
     "text": [
      "Epoch 15: 100%|██████████| 96/96 [00:49<00:00,  1.95it/s]"
     ]
    },
    {
     "name": "stdout",
     "output_type": "stream",
     "text": [
      "Epoch 15, Loss: 0.0483\n"
     ]
    },
    {
     "name": "stderr",
     "output_type": "stream",
     "text": [
      "\n"
     ]
    }
   ],
   "source": [
    "import torch.optim as optim\n",
    "import torch.nn as nn\n",
    "from tqdm import tqdm\n",
    "from torch.cuda.amp import autocast, GradScaler\n",
    "\n",
    "scaler = GradScaler()\n",
    "\n",
    "criterion = nn.CrossEntropyLoss()\n",
    "optimizer = optim.AdamW(model5.parameters(), lr=1e-4)\n",
    "\n",
    "for epoch in range(15):\n",
    "    model5.train()\n",
    "    total_loss = 0.0\n",
    "\n",
    "    for images, labels in tqdm(train_dataloader, desc=f\"Epoch {epoch + 1}\"):\n",
    "        images, labels = images.to(device), labels.to(device)\n",
    "\n",
    "        optimizer.zero_grad()\n",
    "\n",
    "        with autocast():  # Mixed precision context\n",
    "            outputs = model5(images)\n",
    "            loss = criterion(outputs, labels)\n",
    "\n",
    "        scaler.scale(loss).backward()\n",
    "        scaler.step(optimizer)\n",
    "        scaler.update()\n",
    "\n",
    "        total_loss += loss.item()\n",
    "\n",
    "    avg_loss = total_loss / len(train_dataloader)\n",
    "    print(f\"Epoch {epoch+1}, Loss: {avg_loss:.4f}\")\n"
   ]
  },
  {
   "cell_type": "code",
   "execution_count": 11,
   "metadata": {
    "execution": {
     "iopub.execute_input": "2025-05-12T18:52:45.115996Z",
     "iopub.status.busy": "2025-05-12T18:52:45.115739Z",
     "iopub.status.idle": "2025-05-12T18:53:19.690275Z",
     "shell.execute_reply": "2025-05-12T18:53:19.689535Z",
     "shell.execute_reply.started": "2025-05-12T18:52:45.115973Z"
    },
    "trusted": true
   },
   "outputs": [
    {
     "name": "stderr",
     "output_type": "stream",
     "text": [
      "Evaluating: 100%|██████████| 24/24 [00:34<00:00,  1.44s/it]\n"
     ]
    }
   ],
   "source": [
    "from tqdm import tqdm\n",
    "import numpy as np\n",
    "import torch\n",
    "all_predictions = []\n",
    "all_labels = []\n",
    "\n",
    "with torch.no_grad():  # Disable gradient calculation during inference\n",
    "    for images, labels in tqdm(test_dataloader, desc=\"Evaluating\"):\n",
    "        images, labels = images.to(device), labels.to(device)\n",
    "        outputs = model5(images)\n",
    "        _, predicted = torch.max(outputs, 1)\n",
    "\n",
    "        all_predictions.extend(predicted.cpu().numpy())\n",
    "        all_labels.extend(labels.cpu().numpy())"
   ]
  },
  {
   "cell_type": "code",
   "execution_count": 13,
   "metadata": {
    "execution": {
     "iopub.execute_input": "2025-05-12T18:56:46.486414Z",
     "iopub.status.busy": "2025-05-12T18:56:46.485836Z",
     "iopub.status.idle": "2025-05-12T18:56:47.250660Z",
     "shell.execute_reply": "2025-05-12T18:56:47.249863Z",
     "shell.execute_reply.started": "2025-05-12T18:56:46.486393Z"
    },
    "trusted": true
   },
   "outputs": [],
   "source": [
    "from sklearn.metrics import precision_score, recall_score, f1_score, accuracy_score\n",
    "accuracy = accuracy_score(all_labels, all_predictions)\n",
    "precision = precision_score(all_labels, all_predictions, average='weighted')  # Use 'weighted' for multi-class\n",
    "recall = recall_score(all_labels, all_predictions, average='weighted')\n",
    "f1 = f1_score(all_labels, all_predictions, average='weighted')"
   ]
  },
  {
   "cell_type": "code",
   "execution_count": 14,
   "metadata": {
    "execution": {
     "iopub.execute_input": "2025-05-12T18:56:49.366379Z",
     "iopub.status.busy": "2025-05-12T18:56:49.365737Z",
     "iopub.status.idle": "2025-05-12T18:56:49.370751Z",
     "shell.execute_reply": "2025-05-12T18:56:49.370085Z",
     "shell.execute_reply.started": "2025-05-12T18:56:49.366356Z"
    },
    "trusted": true
   },
   "outputs": [
    {
     "name": "stdout",
     "output_type": "stream",
     "text": [
      "Top-1 Accuracy: 0.6460\n",
      "Precision: 0.6707\n",
      "Recall: 0.6460\n",
      "F1-score: 0.6444\n"
     ]
    }
   ],
   "source": [
    "print(f\"Top-1 Accuracy: {accuracy:.4f}\")\n",
    "print(f\"Precision: {precision:.4f}\")\n",
    "print(f\"Recall: {recall:.4f}\")\n",
    "print(f\"F1-score: {f1:.4f}\")"
   ]
  },
  {
   "cell_type": "code",
   "execution_count": 16,
   "metadata": {
    "execution": {
     "iopub.execute_input": "2025-05-12T18:57:53.117172Z",
     "iopub.status.busy": "2025-05-12T18:57:53.116596Z",
     "iopub.status.idle": "2025-05-12T18:57:53.253990Z",
     "shell.execute_reply": "2025-05-12T18:57:53.253314Z",
     "shell.execute_reply.started": "2025-05-12T18:57:53.117145Z"
    },
    "trusted": true
   },
   "outputs": [
    {
     "name": "stdout",
     "output_type": "stream",
     "text": [
      "Top-1 Accuracy: 0.6460\n",
      "Precision: 0.6707\n",
      "Recall: 0.6460\n",
      "F1-score: 0.6444\n"
     ]
    },
    {
     "data": {
      "image/png": "[encoded data removed]",
      "text/plain": [
       "<Figure size 800x500 with 1 Axes>"
      ]
     },
     "metadata": {},
     "output_type": "display_data"
    }
   ],
   "source": [
    "from sklearn.metrics import precision_score, recall_score, f1_score, accuracy_score\n",
    "import matplotlib.pyplot as plt\n",
    "print(f\"Top-1 Accuracy: {accuracy:.4f}\")\n",
    "print(f\"Precision: {precision:.4f}\")\n",
    "print(f\"Recall: {recall:.4f}\")\n",
    "print(f\"F1-score: {f1:.4f}\")\n",
    "metrics = [accuracy, precision, recall, f1]\n",
    "#metrics = [0.85, 0.90, 0.78, 0.92]  # Example metrics (e.g., accuracy, precision, recall, F1)\n",
    "labels = ['Accuracy', 'Precision', 'Recall', 'F1 Score']\n",
    "\n",
    "# Plotting the bar chart\n",
    "plt.figure(figsize=(8, 5))\n",
    "bars = plt.bar(labels, metrics, color=['skyblue', 'orange', 'green', 'red'])\n",
    "\n",
    "# Adding text on top of each bar\n",
    "for bar in bars:\n",
    "    yval = bar.get_height()  # Get the height of each bar\n",
    "    plt.text(bar.get_x() + bar.get_width() / 2, yval + 0.01,  # Place text slightly above the bar\n",
    "             f'{yval:.4f}', ha='center', va='bottom', fontsize=12)\n",
    "\n",
    "plt.ylim(0, 1)  # Set y-axis limits for better spacing above the bars\n",
    "plt.ylabel('Score')\n",
    "plt.title('Classification Metrics')\n",
    "plt.show()"
   ]
  }
 ],
 "metadata": {
  "accelerator": "GPU",
  "colab": {
   "gpuType": "T4",
   "provenance": []
  },
  "kaggle": {
   "accelerator": "gpu",
   "dataSources": [
    {
     "datasetId": 7387403,
     "sourceId": 11767245,
     "sourceType": "datasetVersion"
    }
   ],
   "dockerImageVersionId": 31011,
   "isGpuEnabled": true,
   "isInternetEnabled": true,
   "language": "python",
   "sourceType": "notebook"
  },
  "kernelspec": {
   "display_name": "Python 3",
   "language": "python",
   "name": "python3"
  },
  "language_info": {
   "codemirror_mode": {
    "name": "ipython",
    "version": 3
   },
   "file_extension": ".py",
   "mimetype": "text/x-python",
   "name": "python",
   "nbconvert_exporter": "python",
   "pygments_lexer": "ipython3",
   "version": "3.11.11"
  }
 },
 "nbformat": 4,
 "nbformat_minor": 4
}
